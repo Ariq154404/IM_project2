{
 "cells": [
  {
   "cell_type": "code",
   "execution_count": 2,
   "id": "correct-litigation",
   "metadata": {},
   "outputs": [],
   "source": [
    "import pandas as pd\n",
    "\n",
    "out1=pd.read_csv('submission.csv')\n",
    "out2=pd.read_csv('subRFhpt.csv')"
   ]
  },
  {
   "cell_type": "code",
   "execution_count": 3,
   "id": "charged-triple",
   "metadata": {},
   "outputs": [],
   "source": [
    "import numpy as np\n",
    "col1=out1['isFraud'].to_numpy()\n",
    "col2=out2['isFraud'].to_numpy()"
   ]
  },
  {
   "cell_type": "code",
   "execution_count": 4,
   "id": "norwegian-driver",
   "metadata": {},
   "outputs": [],
   "source": [
    "tp=(2*col1+col2)/3"
   ]
  },
  {
   "cell_type": "code",
   "execution_count": 5,
   "id": "enabling-reference",
   "metadata": {},
   "outputs": [
    {
     "data": {
      "text/plain": [
       "array([0.02624627, 0.02731513, 0.02270034, 0.03360098, 0.20693651])"
      ]
     },
     "execution_count": 5,
     "metadata": {},
     "output_type": "execute_result"
    }
   ],
   "source": [
    "tp[:5]"
   ]
  },
  {
   "cell_type": "code",
   "execution_count": 7,
   "id": "looking-judgment",
   "metadata": {},
   "outputs": [
    {
     "data": {
      "text/plain": [
       "(506691,)"
      ]
     },
     "execution_count": 7,
     "metadata": {},
     "output_type": "execute_result"
    }
   ],
   "source": [
    "tp.shape"
   ]
  },
  {
   "cell_type": "code",
   "execution_count": 8,
   "id": "careful-series",
   "metadata": {},
   "outputs": [],
   "source": [
    "submission4 = pd.DataFrame({\n",
    "    'TransactionID' : out1[\"TransactionID\"].values ,\n",
    "    'isFraud' : tp\n",
    "})"
   ]
  },
  {
   "cell_type": "code",
   "execution_count": 9,
   "id": "thorough-republic",
   "metadata": {},
   "outputs": [
    {
     "data": {
      "text/html": [
       "<div>\n",
       "<style scoped>\n",
       "    .dataframe tbody tr th:only-of-type {\n",
       "        vertical-align: middle;\n",
       "    }\n",
       "\n",
       "    .dataframe tbody tr th {\n",
       "        vertical-align: top;\n",
       "    }\n",
       "\n",
       "    .dataframe thead th {\n",
       "        text-align: right;\n",
       "    }\n",
       "</style>\n",
       "<table border=\"1\" class=\"dataframe\">\n",
       "  <thead>\n",
       "    <tr style=\"text-align: right;\">\n",
       "      <th></th>\n",
       "      <th>TransactionID</th>\n",
       "      <th>isFraud</th>\n",
       "    </tr>\n",
       "  </thead>\n",
       "  <tbody>\n",
       "    <tr>\n",
       "      <th>0</th>\n",
       "      <td>3663586</td>\n",
       "      <td>0.026246</td>\n",
       "    </tr>\n",
       "    <tr>\n",
       "      <th>1</th>\n",
       "      <td>3663588</td>\n",
       "      <td>0.027315</td>\n",
       "    </tr>\n",
       "    <tr>\n",
       "      <th>2</th>\n",
       "      <td>3663597</td>\n",
       "      <td>0.022700</td>\n",
       "    </tr>\n",
       "    <tr>\n",
       "      <th>3</th>\n",
       "      <td>3663601</td>\n",
       "      <td>0.033601</td>\n",
       "    </tr>\n",
       "    <tr>\n",
       "      <th>4</th>\n",
       "      <td>3663602</td>\n",
       "      <td>0.206937</td>\n",
       "    </tr>\n",
       "  </tbody>\n",
       "</table>\n",
       "</div>"
      ],
      "text/plain": [
       "   TransactionID   isFraud\n",
       "0        3663586  0.026246\n",
       "1        3663588  0.027315\n",
       "2        3663597  0.022700\n",
       "3        3663601  0.033601\n",
       "4        3663602  0.206937"
      ]
     },
     "execution_count": 9,
     "metadata": {},
     "output_type": "execute_result"
    }
   ],
   "source": [
    "submission4.head()"
   ]
  },
  {
   "cell_type": "code",
   "execution_count": 10,
   "id": "focused-zoning",
   "metadata": {},
   "outputs": [],
   "source": [
    "submission4.to_csv('ensemblesub.csv', index=False)"
   ]
  },
  {
   "cell_type": "code",
   "execution_count": null,
   "id": "animated-weekend",
   "metadata": {},
   "outputs": [],
   "source": []
  }
 ],
 "metadata": {
  "kernelspec": {
   "display_name": "Python 3",
   "language": "python",
   "name": "python3"
  },
  "language_info": {
   "codemirror_mode": {
    "name": "ipython",
    "version": 3
   },
   "file_extension": ".py",
   "mimetype": "text/x-python",
   "name": "python",
   "nbconvert_exporter": "python",
   "pygments_lexer": "ipython3",
   "version": "3.7.10"
  }
 },
 "nbformat": 4,
 "nbformat_minor": 5
}
