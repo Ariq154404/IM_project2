{
 "cells": [
  {
   "cell_type": "code",
   "execution_count": 36,
   "id": "static-renewal",
   "metadata": {},
   "outputs": [],
   "source": [
    "import pandas as pd\n",
    "import numpy as np\n",
    "from sklearn.model_selection import train_test_split\n",
    "from sklearn.preprocessing import StandardScaler, OneHotEncoder,LabelEncoder,OrdinalEncoder\n",
    "from sklearn.impute import SimpleImputer\n",
    "from sklearn.pipeline import make_pipeline\n",
    "from sklearn.compose import make_column_transformer\n",
    "import seaborn as sns"
   ]
  },
  {
   "cell_type": "code",
   "execution_count": 37,
   "id": "identified-degree",
   "metadata": {},
   "outputs": [],
   "source": [
    "trn_id=pd.read_csv('train_identity.csv') \n",
    "trn_trans=pd.read_csv('train_transaction.csv')\n",
    "trn_data=pd.merge(trn_id, trn_trans, on='TransactionID', how='outer')"
   ]
  },
  {
   "cell_type": "code",
   "execution_count": 38,
   "id": "sudden-custom",
   "metadata": {},
   "outputs": [
    {
     "data": {
      "text/plain": [
       "22"
      ]
     },
     "execution_count": 38,
     "metadata": {},
     "output_type": "execute_result"
    }
   ],
   "source": [
    "import gc\n",
    "del trn_id,trn_trans\n",
    "gc.collect()"
   ]
  },
  {
   "cell_type": "code",
   "execution_count": 39,
   "id": "beautiful-camera",
   "metadata": {},
   "outputs": [],
   "source": [
    "x=trn_data[trn_data[\"isFraud\"].notna()]"
   ]
  },
  {
   "cell_type": "code",
   "execution_count": 40,
   "id": "hungarian-warner",
   "metadata": {},
   "outputs": [],
   "source": [
    " x= x.loc[:, x.isnull().sum() < 0.75*x.shape[0]]"
   ]
  },
  {
   "cell_type": "code",
   "execution_count": 41,
   "id": "understood-westminster",
   "metadata": {},
   "outputs": [
    {
     "data": {
      "text/plain": [
       "66"
      ]
     },
     "execution_count": 41,
     "metadata": {},
     "output_type": "execute_result"
    }
   ],
   "source": [
    "del trn_data\n",
    "gc.collect()"
   ]
  },
  {
   "cell_type": "code",
   "execution_count": 42,
   "id": "certified-batman",
   "metadata": {},
   "outputs": [],
   "source": [
    "y=x.pop(\"isFraud\")"
   ]
  },
  {
   "cell_type": "code",
   "execution_count": 43,
   "id": "hourly-positive",
   "metadata": {},
   "outputs": [
    {
     "data": {
      "text/html": [
       "<div>\n",
       "<style scoped>\n",
       "    .dataframe tbody tr th:only-of-type {\n",
       "        vertical-align: middle;\n",
       "    }\n",
       "\n",
       "    .dataframe tbody tr th {\n",
       "        vertical-align: top;\n",
       "    }\n",
       "\n",
       "    .dataframe thead th {\n",
       "        text-align: right;\n",
       "    }\n",
       "</style>\n",
       "<table border=\"1\" class=\"dataframe\">\n",
       "  <thead>\n",
       "    <tr style=\"text-align: right;\">\n",
       "      <th></th>\n",
       "      <th>TransactionID</th>\n",
       "      <th>TransactionDT</th>\n",
       "      <th>TransactionAmt</th>\n",
       "      <th>ProductCD</th>\n",
       "      <th>card1</th>\n",
       "      <th>card2</th>\n",
       "      <th>card3</th>\n",
       "      <th>card4</th>\n",
       "      <th>card5</th>\n",
       "      <th>card6</th>\n",
       "      <th>...</th>\n",
       "      <th>V312</th>\n",
       "      <th>V313</th>\n",
       "      <th>V314</th>\n",
       "      <th>V315</th>\n",
       "      <th>V316</th>\n",
       "      <th>V317</th>\n",
       "      <th>V318</th>\n",
       "      <th>V319</th>\n",
       "      <th>V320</th>\n",
       "      <th>V321</th>\n",
       "    </tr>\n",
       "  </thead>\n",
       "  <tbody>\n",
       "    <tr>\n",
       "      <th>0</th>\n",
       "      <td>2987004</td>\n",
       "      <td>86506</td>\n",
       "      <td>50.000</td>\n",
       "      <td>H</td>\n",
       "      <td>4497</td>\n",
       "      <td>514.0</td>\n",
       "      <td>150.0</td>\n",
       "      <td>mastercard</td>\n",
       "      <td>102.0</td>\n",
       "      <td>credit</td>\n",
       "      <td>...</td>\n",
       "      <td>0.000000</td>\n",
       "      <td>0.000000</td>\n",
       "      <td>0.000000</td>\n",
       "      <td>0.000000</td>\n",
       "      <td>0.0</td>\n",
       "      <td>0.0</td>\n",
       "      <td>0.0</td>\n",
       "      <td>0.000000</td>\n",
       "      <td>0.000000</td>\n",
       "      <td>0.000000</td>\n",
       "    </tr>\n",
       "    <tr>\n",
       "      <th>1</th>\n",
       "      <td>2987008</td>\n",
       "      <td>86535</td>\n",
       "      <td>15.000</td>\n",
       "      <td>H</td>\n",
       "      <td>2803</td>\n",
       "      <td>100.0</td>\n",
       "      <td>150.0</td>\n",
       "      <td>visa</td>\n",
       "      <td>226.0</td>\n",
       "      <td>debit</td>\n",
       "      <td>...</td>\n",
       "      <td>0.000000</td>\n",
       "      <td>0.000000</td>\n",
       "      <td>0.000000</td>\n",
       "      <td>0.000000</td>\n",
       "      <td>0.0</td>\n",
       "      <td>0.0</td>\n",
       "      <td>0.0</td>\n",
       "      <td>0.000000</td>\n",
       "      <td>0.000000</td>\n",
       "      <td>0.000000</td>\n",
       "    </tr>\n",
       "    <tr>\n",
       "      <th>2</th>\n",
       "      <td>2987010</td>\n",
       "      <td>86549</td>\n",
       "      <td>75.887</td>\n",
       "      <td>C</td>\n",
       "      <td>16496</td>\n",
       "      <td>352.0</td>\n",
       "      <td>117.0</td>\n",
       "      <td>mastercard</td>\n",
       "      <td>134.0</td>\n",
       "      <td>credit</td>\n",
       "      <td>...</td>\n",
       "      <td>90.327904</td>\n",
       "      <td>90.327904</td>\n",
       "      <td>90.327904</td>\n",
       "      <td>90.327904</td>\n",
       "      <td>0.0</td>\n",
       "      <td>0.0</td>\n",
       "      <td>0.0</td>\n",
       "      <td>75.887497</td>\n",
       "      <td>75.887497</td>\n",
       "      <td>75.887497</td>\n",
       "    </tr>\n",
       "    <tr>\n",
       "      <th>3</th>\n",
       "      <td>2987011</td>\n",
       "      <td>86555</td>\n",
       "      <td>16.495</td>\n",
       "      <td>C</td>\n",
       "      <td>4461</td>\n",
       "      <td>375.0</td>\n",
       "      <td>185.0</td>\n",
       "      <td>mastercard</td>\n",
       "      <td>224.0</td>\n",
       "      <td>debit</td>\n",
       "      <td>...</td>\n",
       "      <td>0.000000</td>\n",
       "      <td>0.000000</td>\n",
       "      <td>0.000000</td>\n",
       "      <td>0.000000</td>\n",
       "      <td>0.0</td>\n",
       "      <td>0.0</td>\n",
       "      <td>0.0</td>\n",
       "      <td>0.000000</td>\n",
       "      <td>0.000000</td>\n",
       "      <td>0.000000</td>\n",
       "    </tr>\n",
       "    <tr>\n",
       "      <th>4</th>\n",
       "      <td>2987016</td>\n",
       "      <td>86620</td>\n",
       "      <td>30.000</td>\n",
       "      <td>H</td>\n",
       "      <td>1790</td>\n",
       "      <td>555.0</td>\n",
       "      <td>150.0</td>\n",
       "      <td>visa</td>\n",
       "      <td>226.0</td>\n",
       "      <td>debit</td>\n",
       "      <td>...</td>\n",
       "      <td>0.000000</td>\n",
       "      <td>0.000000</td>\n",
       "      <td>0.000000</td>\n",
       "      <td>0.000000</td>\n",
       "      <td>0.0</td>\n",
       "      <td>0.0</td>\n",
       "      <td>0.0</td>\n",
       "      <td>0.000000</td>\n",
       "      <td>0.000000</td>\n",
       "      <td>0.000000</td>\n",
       "    </tr>\n",
       "  </tbody>\n",
       "</table>\n",
       "<p>5 rows × 225 columns</p>\n",
       "</div>"
      ],
      "text/plain": [
       "   TransactionID  TransactionDT  TransactionAmt ProductCD  card1  card2  \\\n",
       "0        2987004          86506          50.000         H   4497  514.0   \n",
       "1        2987008          86535          15.000         H   2803  100.0   \n",
       "2        2987010          86549          75.887         C  16496  352.0   \n",
       "3        2987011          86555          16.495         C   4461  375.0   \n",
       "4        2987016          86620          30.000         H   1790  555.0   \n",
       "\n",
       "   card3       card4  card5   card6  ...       V312       V313       V314  \\\n",
       "0  150.0  mastercard  102.0  credit  ...   0.000000   0.000000   0.000000   \n",
       "1  150.0        visa  226.0   debit  ...   0.000000   0.000000   0.000000   \n",
       "2  117.0  mastercard  134.0  credit  ...  90.327904  90.327904  90.327904   \n",
       "3  185.0  mastercard  224.0   debit  ...   0.000000   0.000000   0.000000   \n",
       "4  150.0        visa  226.0   debit  ...   0.000000   0.000000   0.000000   \n",
       "\n",
       "        V315  V316  V317  V318       V319       V320       V321  \n",
       "0   0.000000   0.0   0.0   0.0   0.000000   0.000000   0.000000  \n",
       "1   0.000000   0.0   0.0   0.0   0.000000   0.000000   0.000000  \n",
       "2  90.327904   0.0   0.0   0.0  75.887497  75.887497  75.887497  \n",
       "3   0.000000   0.0   0.0   0.0   0.000000   0.000000   0.000000  \n",
       "4   0.000000   0.0   0.0   0.0   0.000000   0.000000   0.000000  \n",
       "\n",
       "[5 rows x 225 columns]"
      ]
     },
     "execution_count": 43,
     "metadata": {},
     "output_type": "execute_result"
    }
   ],
   "source": [
    "x.head()"
   ]
  },
  {
   "cell_type": "code",
   "execution_count": 44,
   "id": "standing-clone",
   "metadata": {},
   "outputs": [
    {
     "data": {
      "text/plain": [
       "count     588963\n",
       "unique         4\n",
       "top         visa\n",
       "freq      384767\n",
       "Name: card4, dtype: object"
      ]
     },
     "execution_count": 44,
     "metadata": {},
     "output_type": "execute_result"
    }
   ],
   "source": [
    "x.card4.describe()"
   ]
  },
  {
   "cell_type": "code",
   "execution_count": 45,
   "id": "outstanding-plain",
   "metadata": {},
   "outputs": [
    {
     "data": {
      "text/plain": [
       "count    590528.000000\n",
       "mean         39.173910\n",
       "std         172.128339\n",
       "min           0.000000\n",
       "25%           0.000000\n",
       "50%           0.000000\n",
       "75%           0.000000\n",
       "max       55125.000000\n",
       "Name: V312, dtype: float64"
      ]
     },
     "execution_count": 45,
     "metadata": {},
     "output_type": "execute_result"
    }
   ],
   "source": [
    "x.V312.describe()"
   ]
  },
  {
   "cell_type": "code",
   "execution_count": 46,
   "id": "tamil-holocaust",
   "metadata": {},
   "outputs": [
    {
     "data": {
      "text/plain": [
       "110"
      ]
     },
     "execution_count": 46,
     "metadata": {},
     "output_type": "execute_result"
    }
   ],
   "source": [
    "z=x.pop('TransactionID')\n",
    "del z\n",
    "gc.collect()"
   ]
  },
  {
   "cell_type": "code",
   "execution_count": 47,
   "id": "special-omega",
   "metadata": {},
   "outputs": [
    {
     "data": {
      "text/plain": [
       "0"
      ]
     },
     "execution_count": 47,
     "metadata": {},
     "output_type": "execute_result"
    }
   ],
   "source": [
    "tst_id=pd.read_csv('test_identity.csv') \n",
    "tst_trans=pd.read_csv('test_transaction.csv')\n",
    "tst_data=pd.merge(tst_id, tst_trans, on='TransactionID', how='outer')\n",
    "del tst_id,tst_trans\n",
    "gc.collect()"
   ]
  },
  {
   "cell_type": "code",
   "execution_count": 48,
   "id": "illegal-hundred",
   "metadata": {},
   "outputs": [],
   "source": [
    "tst_data.rename({'id-01':'id_01','id-02':'id_02','id-03':'id_03','id-04':'id_04','id-05':'id_05','id-06':'id_06','id-07':'id_07','id-08':'id_08','id-09':'id_09','id-10':'id_10','id-11':'id_11','id-12':'id_12','id-13':'id_13','id-14':'id_14','id-15':'id_15','id-16':'id_16','id-17':'id_17','id-18':'id_18','id-19':'id_19','id-20':'id_20','id-21':'id_21','id-22':'id_22','id-23':'id_23','id-24':'id_24','id-25':'id_25','id-26':'id_26','id-27':'id_27','id-28':'id_28','id-29':'id_29','id-30':'id_30','id-31':'id_31', 'id-32':'id_32', 'id-33':'id_33', 'id-34':'id_34', 'id-35':'id_35', 'id-36':'id_36', 'id-37':'id_37', 'id-38':'id_38'}, axis=1, inplace=True)"
   ]
  },
  {
   "cell_type": "code",
   "execution_count": 49,
   "id": "union-chambers",
   "metadata": {},
   "outputs": [
    {
     "data": {
      "text/plain": [
       "44"
      ]
     },
     "execution_count": 49,
     "metadata": {},
     "output_type": "execute_result"
    }
   ],
   "source": [
    "z=tst_data.pop('TransactionID')\n",
    "del z\n",
    "gc.collect()"
   ]
  },
  {
   "cell_type": "code",
   "execution_count": 50,
   "id": "increased-seminar",
   "metadata": {},
   "outputs": [],
   "source": [
    "z=x.pop('TransactionDT')\n",
    "z=tst_data.pop('TransactionDT')\n",
    "del z"
   ]
  },
  {
   "cell_type": "code",
   "execution_count": 51,
   "id": "received-pledge",
   "metadata": {},
   "outputs": [
    {
     "data": {
      "text/plain": [
       "count     330052\n",
       "unique         2\n",
       "top            T\n",
       "freq      330021\n",
       "Name: M1, dtype: object"
      ]
     },
     "execution_count": 51,
     "metadata": {},
     "output_type": "execute_result"
    }
   ],
   "source": [
    "tst_data.M1.describe()"
   ]
  },
  {
   "cell_type": "code",
   "execution_count": 52,
   "id": "coral-volunteer",
   "metadata": {},
   "outputs": [],
   "source": [
    "for i in range(1,7):\n",
    "    x['card'+str(i)]=x['card'+str(i)].astype(str)\n",
    "    tst_data['card'+str(i)]=tst_data['card'+str(i)].astype(str)"
   ]
  },
  {
   "cell_type": "code",
   "execution_count": 53,
   "id": "foreign-tribune",
   "metadata": {},
   "outputs": [],
   "source": [
    "for i in range(1,3):\n",
    "    x['addr'+str(i)]=x['addr'+str(i)].astype(str)\n",
    "    tst_data['addr'+str(i)]=tst_data['addr'+str(i)].astype(str)"
   ]
  },
  {
   "cell_type": "code",
   "execution_count": 54,
   "id": "stupid-wrapping",
   "metadata": {},
   "outputs": [],
   "source": [
    "cat_col= [c for c in x.columns if\n",
    "                   x[c].dtype == \"object\"]\n",
    "\n",
    "\n",
    "num_col = [c for c in x.columns if \n",
    "                  c not in cat_col]"
   ]
  },
  {
   "cell_type": "code",
   "execution_count": 55,
   "id": "first-chest",
   "metadata": {},
   "outputs": [
    {
     "name": "stdout",
     "output_type": "stream",
     "text": [
      "['ProductCD', 'card1', 'card2', 'card3', 'card4', 'card5', 'card6', 'addr1', 'addr2', 'P_emaildomain', 'M1', 'M2', 'M3', 'M4', 'M5', 'M6', 'M7', 'M8', 'M9']\n"
     ]
    }
   ],
   "source": [
    "print(cat_col)"
   ]
  },
  {
   "cell_type": "code",
   "execution_count": 56,
   "id": "inclusive-chicken",
   "metadata": {},
   "outputs": [
    {
     "name": "stdout",
     "output_type": "stream",
     "text": [
      "['TransactionAmt', 'dist1', 'C1', 'C2', 'C3', 'C4', 'C5', 'C6', 'C7', 'C8', 'C9', 'C10', 'C11', 'C12', 'C13', 'C14', 'D1', 'D2', 'D3', 'D4', 'D5', 'D10', 'D11', 'D15', 'V1', 'V2', 'V3', 'V4', 'V5', 'V6', 'V7', 'V8', 'V9', 'V10', 'V11', 'V12', 'V13', 'V14', 'V15', 'V16', 'V17', 'V18', 'V19', 'V20', 'V21', 'V22', 'V23', 'V24', 'V25', 'V26', 'V27', 'V28', 'V29', 'V30', 'V31', 'V32', 'V33', 'V34', 'V35', 'V36', 'V37', 'V38', 'V39', 'V40', 'V41', 'V42', 'V43', 'V44', 'V45', 'V46', 'V47', 'V48', 'V49', 'V50', 'V51', 'V52', 'V53', 'V54', 'V55', 'V56', 'V57', 'V58', 'V59', 'V60', 'V61', 'V62', 'V63', 'V64', 'V65', 'V66', 'V67', 'V68', 'V69', 'V70', 'V71', 'V72', 'V73', 'V74', 'V75', 'V76', 'V77', 'V78', 'V79', 'V80', 'V81', 'V82', 'V83', 'V84', 'V85', 'V86', 'V87', 'V88', 'V89', 'V90', 'V91', 'V92', 'V93', 'V94', 'V95', 'V96', 'V97', 'V98', 'V99', 'V100', 'V101', 'V102', 'V103', 'V104', 'V105', 'V106', 'V107', 'V108', 'V109', 'V110', 'V111', 'V112', 'V113', 'V114', 'V115', 'V116', 'V117', 'V118', 'V119', 'V120', 'V121', 'V122', 'V123', 'V124', 'V125', 'V126', 'V127', 'V128', 'V129', 'V130', 'V131', 'V132', 'V133', 'V134', 'V135', 'V136', 'V137', 'V279', 'V280', 'V281', 'V282', 'V283', 'V284', 'V285', 'V286', 'V287', 'V288', 'V289', 'V290', 'V291', 'V292', 'V293', 'V294', 'V295', 'V296', 'V297', 'V298', 'V299', 'V300', 'V301', 'V302', 'V303', 'V304', 'V305', 'V306', 'V307', 'V308', 'V309', 'V310', 'V311', 'V312', 'V313', 'V314', 'V315', 'V316', 'V317', 'V318', 'V319', 'V320', 'V321']\n"
     ]
    }
   ],
   "source": [
    "print(num_col)"
   ]
  },
  {
   "cell_type": "code",
   "execution_count": 57,
   "id": "initial-piece",
   "metadata": {},
   "outputs": [
    {
     "data": {
      "text/plain": [
       "count     590540\n",
       "unique     13553\n",
       "top         7919\n",
       "freq       14932\n",
       "Name: card1, dtype: object"
      ]
     },
     "execution_count": 57,
     "metadata": {},
     "output_type": "execute_result"
    }
   ],
   "source": [
    "x['card1'].describe()"
   ]
  },
  {
   "cell_type": "code",
   "execution_count": 58,
   "id": "plastic-budapest",
   "metadata": {},
   "outputs": [
    {
     "data": {
      "text/plain": [
       "count     506691\n",
       "unique     13244\n",
       "top         7919\n",
       "freq       13083\n",
       "Name: card1, dtype: object"
      ]
     },
     "execution_count": 58,
     "metadata": {},
     "output_type": "execute_result"
    }
   ],
   "source": [
    "tst_data['card1'].describe()"
   ]
  },
  {
   "cell_type": "code",
   "execution_count": 59,
   "id": "virtual-spyware",
   "metadata": {},
   "outputs": [],
   "source": [
    "for c in cat_col:\n",
    "    x[c]=x[c].astype(str)\n",
    "    tst_data[c]=tst_data[c].astype(str)"
   ]
  },
  {
   "cell_type": "code",
   "execution_count": 60,
   "id": "talented-briefs",
   "metadata": {},
   "outputs": [
    {
     "name": "stdout",
     "output_type": "stream",
     "text": [
      "<class 'str'>\n"
     ]
    }
   ],
   "source": [
    "print(type(x.addr1[0]))"
   ]
  },
  {
   "cell_type": "code",
   "execution_count": 61,
   "id": "united-treasurer",
   "metadata": {},
   "outputs": [],
   "source": [
    "for c in cat_col:\n",
    "    x[c]=x[c].replace('nan','NA')"
   ]
  },
  {
   "cell_type": "code",
   "execution_count": 62,
   "id": "quantitative-preliminary",
   "metadata": {},
   "outputs": [],
   "source": [
    "for c in cat_col:\n",
    "    tst_data[c]=tst_data[c].replace('nan','NA')"
   ]
  },
  {
   "cell_type": "code",
   "execution_count": 63,
   "id": "advisory-spotlight",
   "metadata": {},
   "outputs": [
    {
     "data": {
      "text/html": [
       "<div>\n",
       "<style scoped>\n",
       "    .dataframe tbody tr th:only-of-type {\n",
       "        vertical-align: middle;\n",
       "    }\n",
       "\n",
       "    .dataframe tbody tr th {\n",
       "        vertical-align: top;\n",
       "    }\n",
       "\n",
       "    .dataframe thead th {\n",
       "        text-align: right;\n",
       "    }\n",
       "</style>\n",
       "<table border=\"1\" class=\"dataframe\">\n",
       "  <thead>\n",
       "    <tr style=\"text-align: right;\">\n",
       "      <th></th>\n",
       "      <th>ProductCD</th>\n",
       "      <th>card1</th>\n",
       "      <th>card2</th>\n",
       "      <th>card3</th>\n",
       "      <th>card4</th>\n",
       "      <th>card5</th>\n",
       "      <th>card6</th>\n",
       "      <th>addr1</th>\n",
       "      <th>addr2</th>\n",
       "      <th>P_emaildomain</th>\n",
       "      <th>M1</th>\n",
       "      <th>M2</th>\n",
       "      <th>M3</th>\n",
       "      <th>M4</th>\n",
       "      <th>M5</th>\n",
       "      <th>M6</th>\n",
       "      <th>M7</th>\n",
       "      <th>M8</th>\n",
       "      <th>M9</th>\n",
       "    </tr>\n",
       "  </thead>\n",
       "  <tbody>\n",
       "    <tr>\n",
       "      <th>0</th>\n",
       "      <td>H</td>\n",
       "      <td>4497</td>\n",
       "      <td>514.0</td>\n",
       "      <td>150.0</td>\n",
       "      <td>mastercard</td>\n",
       "      <td>102.0</td>\n",
       "      <td>credit</td>\n",
       "      <td>420.0</td>\n",
       "      <td>87.0</td>\n",
       "      <td>gmail.com</td>\n",
       "      <td>NA</td>\n",
       "      <td>NA</td>\n",
       "      <td>NA</td>\n",
       "      <td>NA</td>\n",
       "      <td>NA</td>\n",
       "      <td>NA</td>\n",
       "      <td>NA</td>\n",
       "      <td>NA</td>\n",
       "      <td>NA</td>\n",
       "    </tr>\n",
       "    <tr>\n",
       "      <th>1</th>\n",
       "      <td>H</td>\n",
       "      <td>2803</td>\n",
       "      <td>100.0</td>\n",
       "      <td>150.0</td>\n",
       "      <td>visa</td>\n",
       "      <td>226.0</td>\n",
       "      <td>debit</td>\n",
       "      <td>337.0</td>\n",
       "      <td>87.0</td>\n",
       "      <td>anonymous.com</td>\n",
       "      <td>NA</td>\n",
       "      <td>NA</td>\n",
       "      <td>NA</td>\n",
       "      <td>NA</td>\n",
       "      <td>NA</td>\n",
       "      <td>NA</td>\n",
       "      <td>NA</td>\n",
       "      <td>NA</td>\n",
       "      <td>NA</td>\n",
       "    </tr>\n",
       "    <tr>\n",
       "      <th>2</th>\n",
       "      <td>C</td>\n",
       "      <td>16496</td>\n",
       "      <td>352.0</td>\n",
       "      <td>117.0</td>\n",
       "      <td>mastercard</td>\n",
       "      <td>134.0</td>\n",
       "      <td>credit</td>\n",
       "      <td>NA</td>\n",
       "      <td>NA</td>\n",
       "      <td>gmail.com</td>\n",
       "      <td>NA</td>\n",
       "      <td>NA</td>\n",
       "      <td>NA</td>\n",
       "      <td>M0</td>\n",
       "      <td>NA</td>\n",
       "      <td>NA</td>\n",
       "      <td>NA</td>\n",
       "      <td>NA</td>\n",
       "      <td>NA</td>\n",
       "    </tr>\n",
       "    <tr>\n",
       "      <th>3</th>\n",
       "      <td>C</td>\n",
       "      <td>4461</td>\n",
       "      <td>375.0</td>\n",
       "      <td>185.0</td>\n",
       "      <td>mastercard</td>\n",
       "      <td>224.0</td>\n",
       "      <td>debit</td>\n",
       "      <td>NA</td>\n",
       "      <td>NA</td>\n",
       "      <td>hotmail.com</td>\n",
       "      <td>NA</td>\n",
       "      <td>NA</td>\n",
       "      <td>NA</td>\n",
       "      <td>M0</td>\n",
       "      <td>NA</td>\n",
       "      <td>NA</td>\n",
       "      <td>NA</td>\n",
       "      <td>NA</td>\n",
       "      <td>NA</td>\n",
       "    </tr>\n",
       "    <tr>\n",
       "      <th>4</th>\n",
       "      <td>H</td>\n",
       "      <td>1790</td>\n",
       "      <td>555.0</td>\n",
       "      <td>150.0</td>\n",
       "      <td>visa</td>\n",
       "      <td>226.0</td>\n",
       "      <td>debit</td>\n",
       "      <td>170.0</td>\n",
       "      <td>87.0</td>\n",
       "      <td>aol.com</td>\n",
       "      <td>NA</td>\n",
       "      <td>NA</td>\n",
       "      <td>NA</td>\n",
       "      <td>NA</td>\n",
       "      <td>NA</td>\n",
       "      <td>NA</td>\n",
       "      <td>NA</td>\n",
       "      <td>NA</td>\n",
       "      <td>NA</td>\n",
       "    </tr>\n",
       "  </tbody>\n",
       "</table>\n",
       "</div>"
      ],
      "text/plain": [
       "  ProductCD  card1  card2  card3       card4  card5   card6  addr1 addr2  \\\n",
       "0         H   4497  514.0  150.0  mastercard  102.0  credit  420.0  87.0   \n",
       "1         H   2803  100.0  150.0        visa  226.0   debit  337.0  87.0   \n",
       "2         C  16496  352.0  117.0  mastercard  134.0  credit     NA    NA   \n",
       "3         C   4461  375.0  185.0  mastercard  224.0   debit     NA    NA   \n",
       "4         H   1790  555.0  150.0        visa  226.0   debit  170.0  87.0   \n",
       "\n",
       "   P_emaildomain  M1  M2  M3  M4  M5  M6  M7  M8  M9  \n",
       "0      gmail.com  NA  NA  NA  NA  NA  NA  NA  NA  NA  \n",
       "1  anonymous.com  NA  NA  NA  NA  NA  NA  NA  NA  NA  \n",
       "2      gmail.com  NA  NA  NA  M0  NA  NA  NA  NA  NA  \n",
       "3    hotmail.com  NA  NA  NA  M0  NA  NA  NA  NA  NA  \n",
       "4        aol.com  NA  NA  NA  NA  NA  NA  NA  NA  NA  "
      ]
     },
     "execution_count": 63,
     "metadata": {},
     "output_type": "execute_result"
    }
   ],
   "source": [
    "x[cat_col].head()"
   ]
  },
  {
   "cell_type": "code",
   "execution_count": 64,
   "id": "angry-greenhouse",
   "metadata": {},
   "outputs": [
    {
     "data": {
      "text/html": [
       "<div>\n",
       "<style scoped>\n",
       "    .dataframe tbody tr th:only-of-type {\n",
       "        vertical-align: middle;\n",
       "    }\n",
       "\n",
       "    .dataframe tbody tr th {\n",
       "        vertical-align: top;\n",
       "    }\n",
       "\n",
       "    .dataframe thead th {\n",
       "        text-align: right;\n",
       "    }\n",
       "</style>\n",
       "<table border=\"1\" class=\"dataframe\">\n",
       "  <thead>\n",
       "    <tr style=\"text-align: right;\">\n",
       "      <th></th>\n",
       "      <th>ProductCD</th>\n",
       "      <th>card1</th>\n",
       "      <th>card2</th>\n",
       "      <th>card3</th>\n",
       "      <th>card4</th>\n",
       "      <th>card5</th>\n",
       "      <th>card6</th>\n",
       "      <th>addr1</th>\n",
       "      <th>addr2</th>\n",
       "      <th>P_emaildomain</th>\n",
       "      <th>M1</th>\n",
       "      <th>M2</th>\n",
       "      <th>M3</th>\n",
       "      <th>M4</th>\n",
       "      <th>M5</th>\n",
       "      <th>M6</th>\n",
       "      <th>M7</th>\n",
       "      <th>M8</th>\n",
       "      <th>M9</th>\n",
       "    </tr>\n",
       "  </thead>\n",
       "  <tbody>\n",
       "    <tr>\n",
       "      <th>0</th>\n",
       "      <td>C</td>\n",
       "      <td>15885</td>\n",
       "      <td>545.0</td>\n",
       "      <td>185.0</td>\n",
       "      <td>visa</td>\n",
       "      <td>138.0</td>\n",
       "      <td>debit</td>\n",
       "      <td>NA</td>\n",
       "      <td>NA</td>\n",
       "      <td>hotmail.com</td>\n",
       "      <td>NA</td>\n",
       "      <td>NA</td>\n",
       "      <td>NA</td>\n",
       "      <td>M2</td>\n",
       "      <td>NA</td>\n",
       "      <td>NA</td>\n",
       "      <td>NA</td>\n",
       "      <td>NA</td>\n",
       "      <td>NA</td>\n",
       "    </tr>\n",
       "    <tr>\n",
       "      <th>1</th>\n",
       "      <td>S</td>\n",
       "      <td>2453</td>\n",
       "      <td>399.0</td>\n",
       "      <td>150.0</td>\n",
       "      <td>american express</td>\n",
       "      <td>137.0</td>\n",
       "      <td>credit</td>\n",
       "      <td>494.0</td>\n",
       "      <td>87.0</td>\n",
       "      <td>NA</td>\n",
       "      <td>NA</td>\n",
       "      <td>NA</td>\n",
       "      <td>NA</td>\n",
       "      <td>NA</td>\n",
       "      <td>NA</td>\n",
       "      <td>NA</td>\n",
       "      <td>NA</td>\n",
       "      <td>NA</td>\n",
       "      <td>NA</td>\n",
       "    </tr>\n",
       "    <tr>\n",
       "      <th>2</th>\n",
       "      <td>C</td>\n",
       "      <td>15885</td>\n",
       "      <td>545.0</td>\n",
       "      <td>185.0</td>\n",
       "      <td>visa</td>\n",
       "      <td>138.0</td>\n",
       "      <td>debit</td>\n",
       "      <td>NA</td>\n",
       "      <td>NA</td>\n",
       "      <td>anonymous.com</td>\n",
       "      <td>NA</td>\n",
       "      <td>NA</td>\n",
       "      <td>NA</td>\n",
       "      <td>M2</td>\n",
       "      <td>NA</td>\n",
       "      <td>NA</td>\n",
       "      <td>NA</td>\n",
       "      <td>NA</td>\n",
       "      <td>NA</td>\n",
       "    </tr>\n",
       "    <tr>\n",
       "      <th>3</th>\n",
       "      <td>C</td>\n",
       "      <td>15885</td>\n",
       "      <td>545.0</td>\n",
       "      <td>185.0</td>\n",
       "      <td>visa</td>\n",
       "      <td>138.0</td>\n",
       "      <td>debit</td>\n",
       "      <td>NA</td>\n",
       "      <td>NA</td>\n",
       "      <td>hotmail.com</td>\n",
       "      <td>NA</td>\n",
       "      <td>NA</td>\n",
       "      <td>NA</td>\n",
       "      <td>M2</td>\n",
       "      <td>NA</td>\n",
       "      <td>NA</td>\n",
       "      <td>NA</td>\n",
       "      <td>NA</td>\n",
       "      <td>NA</td>\n",
       "    </tr>\n",
       "    <tr>\n",
       "      <th>4</th>\n",
       "      <td>C</td>\n",
       "      <td>9633</td>\n",
       "      <td>130.0</td>\n",
       "      <td>185.0</td>\n",
       "      <td>visa</td>\n",
       "      <td>138.0</td>\n",
       "      <td>debit</td>\n",
       "      <td>NA</td>\n",
       "      <td>NA</td>\n",
       "      <td>hotmail.com</td>\n",
       "      <td>NA</td>\n",
       "      <td>NA</td>\n",
       "      <td>NA</td>\n",
       "      <td>M2</td>\n",
       "      <td>NA</td>\n",
       "      <td>NA</td>\n",
       "      <td>NA</td>\n",
       "      <td>NA</td>\n",
       "      <td>NA</td>\n",
       "    </tr>\n",
       "  </tbody>\n",
       "</table>\n",
       "</div>"
      ],
      "text/plain": [
       "  ProductCD  card1  card2  card3             card4  card5   card6  addr1  \\\n",
       "0         C  15885  545.0  185.0              visa  138.0   debit     NA   \n",
       "1         S   2453  399.0  150.0  american express  137.0  credit  494.0   \n",
       "2         C  15885  545.0  185.0              visa  138.0   debit     NA   \n",
       "3         C  15885  545.0  185.0              visa  138.0   debit     NA   \n",
       "4         C   9633  130.0  185.0              visa  138.0   debit     NA   \n",
       "\n",
       "  addr2  P_emaildomain  M1  M2  M3  M4  M5  M6  M7  M8  M9  \n",
       "0    NA    hotmail.com  NA  NA  NA  M2  NA  NA  NA  NA  NA  \n",
       "1  87.0             NA  NA  NA  NA  NA  NA  NA  NA  NA  NA  \n",
       "2    NA  anonymous.com  NA  NA  NA  M2  NA  NA  NA  NA  NA  \n",
       "3    NA    hotmail.com  NA  NA  NA  M2  NA  NA  NA  NA  NA  \n",
       "4    NA    hotmail.com  NA  NA  NA  M2  NA  NA  NA  NA  NA  "
      ]
     },
     "execution_count": 64,
     "metadata": {},
     "output_type": "execute_result"
    }
   ],
   "source": [
    "tst_data[cat_col].head()"
   ]
  },
  {
   "cell_type": "code",
   "execution_count": 65,
   "id": "following-chemical",
   "metadata": {},
   "outputs": [],
   "source": [
    "myinp=SimpleImputer()\n",
    "x_num=pd.DataFrame(myinp.fit_transform(x[num_col]),columns=num_col)\n",
    "tst_data_num=pd.DataFrame(myinp.fit_transform(tst_data[num_col]),columns=num_col)"
   ]
  },
  {
   "cell_type": "code",
   "execution_count": 66,
   "id": "proprietary-bookmark",
   "metadata": {},
   "outputs": [
    {
     "data": {
      "text/plain": [
       "count    590540.000000\n",
       "mean        118.502180\n",
       "std         236.212066\n",
       "min           0.000000\n",
       "25%          13.000000\n",
       "50%         118.502180\n",
       "75%         118.502180\n",
       "max       10286.000000\n",
       "Name: dist1, dtype: float64"
      ]
     },
     "execution_count": 66,
     "metadata": {},
     "output_type": "execute_result"
    }
   ],
   "source": [
    "x_num.dist1.describe()"
   ]
  },
  {
   "cell_type": "code",
   "execution_count": 67,
   "id": "centered-knife",
   "metadata": {},
   "outputs": [],
   "source": [
    "x=pd.concat((x[cat_col],x_num),axis=1)\n",
    "tst_out=pd.concat((tst_data[cat_col],tst_data_num),axis=1)"
   ]
  },
  {
   "cell_type": "code",
   "execution_count": 68,
   "id": "universal-adolescent",
   "metadata": {},
   "outputs": [],
   "source": [
    "del tst_data"
   ]
  },
  {
   "cell_type": "code",
   "execution_count": 69,
   "id": "raising-perth",
   "metadata": {},
   "outputs": [
    {
     "data": {
      "text/plain": [
       "220"
      ]
     },
     "execution_count": 69,
     "metadata": {},
     "output_type": "execute_result"
    }
   ],
   "source": [
    "gc.collect()"
   ]
  },
  {
   "cell_type": "code",
   "execution_count": 70,
   "id": "sublime-swedish",
   "metadata": {},
   "outputs": [
    {
     "data": {
      "text/plain": [
       "(506691, 223)"
      ]
     },
     "execution_count": 70,
     "metadata": {},
     "output_type": "execute_result"
    }
   ],
   "source": [
    "tst_out.shape"
   ]
  },
  {
   "cell_type": "code",
   "execution_count": 71,
   "id": "geographic-spokesman",
   "metadata": {},
   "outputs": [
    {
     "data": {
      "text/plain": [
       "(590540, 223)"
      ]
     },
     "execution_count": 71,
     "metadata": {},
     "output_type": "execute_result"
    }
   ],
   "source": [
    "x.shape"
   ]
  },
  {
   "cell_type": "code",
   "execution_count": 72,
   "id": "devoted-transfer",
   "metadata": {},
   "outputs": [
    {
     "data": {
      "text/html": [
       "<div>\n",
       "<style scoped>\n",
       "    .dataframe tbody tr th:only-of-type {\n",
       "        vertical-align: middle;\n",
       "    }\n",
       "\n",
       "    .dataframe tbody tr th {\n",
       "        vertical-align: top;\n",
       "    }\n",
       "\n",
       "    .dataframe thead th {\n",
       "        text-align: right;\n",
       "    }\n",
       "</style>\n",
       "<table border=\"1\" class=\"dataframe\">\n",
       "  <thead>\n",
       "    <tr style=\"text-align: right;\">\n",
       "      <th></th>\n",
       "      <th>ProductCD</th>\n",
       "      <th>card1</th>\n",
       "      <th>card2</th>\n",
       "      <th>card3</th>\n",
       "      <th>card4</th>\n",
       "      <th>card5</th>\n",
       "      <th>card6</th>\n",
       "      <th>addr1</th>\n",
       "      <th>addr2</th>\n",
       "      <th>P_emaildomain</th>\n",
       "      <th>...</th>\n",
       "      <th>V312</th>\n",
       "      <th>V313</th>\n",
       "      <th>V314</th>\n",
       "      <th>V315</th>\n",
       "      <th>V316</th>\n",
       "      <th>V317</th>\n",
       "      <th>V318</th>\n",
       "      <th>V319</th>\n",
       "      <th>V320</th>\n",
       "      <th>V321</th>\n",
       "    </tr>\n",
       "  </thead>\n",
       "  <tbody>\n",
       "    <tr>\n",
       "      <th>0</th>\n",
       "      <td>H</td>\n",
       "      <td>4497</td>\n",
       "      <td>514.0</td>\n",
       "      <td>150.0</td>\n",
       "      <td>mastercard</td>\n",
       "      <td>102.0</td>\n",
       "      <td>credit</td>\n",
       "      <td>420.0</td>\n",
       "      <td>87.0</td>\n",
       "      <td>gmail.com</td>\n",
       "      <td>...</td>\n",
       "      <td>0.000000</td>\n",
       "      <td>0.000000</td>\n",
       "      <td>0.000000</td>\n",
       "      <td>0.000000</td>\n",
       "      <td>0.0</td>\n",
       "      <td>0.0</td>\n",
       "      <td>0.0</td>\n",
       "      <td>0.000000</td>\n",
       "      <td>0.000000</td>\n",
       "      <td>0.000000</td>\n",
       "    </tr>\n",
       "    <tr>\n",
       "      <th>1</th>\n",
       "      <td>H</td>\n",
       "      <td>2803</td>\n",
       "      <td>100.0</td>\n",
       "      <td>150.0</td>\n",
       "      <td>visa</td>\n",
       "      <td>226.0</td>\n",
       "      <td>debit</td>\n",
       "      <td>337.0</td>\n",
       "      <td>87.0</td>\n",
       "      <td>anonymous.com</td>\n",
       "      <td>...</td>\n",
       "      <td>0.000000</td>\n",
       "      <td>0.000000</td>\n",
       "      <td>0.000000</td>\n",
       "      <td>0.000000</td>\n",
       "      <td>0.0</td>\n",
       "      <td>0.0</td>\n",
       "      <td>0.0</td>\n",
       "      <td>0.000000</td>\n",
       "      <td>0.000000</td>\n",
       "      <td>0.000000</td>\n",
       "    </tr>\n",
       "    <tr>\n",
       "      <th>2</th>\n",
       "      <td>C</td>\n",
       "      <td>16496</td>\n",
       "      <td>352.0</td>\n",
       "      <td>117.0</td>\n",
       "      <td>mastercard</td>\n",
       "      <td>134.0</td>\n",
       "      <td>credit</td>\n",
       "      <td>NA</td>\n",
       "      <td>NA</td>\n",
       "      <td>gmail.com</td>\n",
       "      <td>...</td>\n",
       "      <td>90.327904</td>\n",
       "      <td>90.327904</td>\n",
       "      <td>90.327904</td>\n",
       "      <td>90.327904</td>\n",
       "      <td>0.0</td>\n",
       "      <td>0.0</td>\n",
       "      <td>0.0</td>\n",
       "      <td>75.887497</td>\n",
       "      <td>75.887497</td>\n",
       "      <td>75.887497</td>\n",
       "    </tr>\n",
       "    <tr>\n",
       "      <th>3</th>\n",
       "      <td>C</td>\n",
       "      <td>4461</td>\n",
       "      <td>375.0</td>\n",
       "      <td>185.0</td>\n",
       "      <td>mastercard</td>\n",
       "      <td>224.0</td>\n",
       "      <td>debit</td>\n",
       "      <td>NA</td>\n",
       "      <td>NA</td>\n",
       "      <td>hotmail.com</td>\n",
       "      <td>...</td>\n",
       "      <td>0.000000</td>\n",
       "      <td>0.000000</td>\n",
       "      <td>0.000000</td>\n",
       "      <td>0.000000</td>\n",
       "      <td>0.0</td>\n",
       "      <td>0.0</td>\n",
       "      <td>0.0</td>\n",
       "      <td>0.000000</td>\n",
       "      <td>0.000000</td>\n",
       "      <td>0.000000</td>\n",
       "    </tr>\n",
       "    <tr>\n",
       "      <th>4</th>\n",
       "      <td>H</td>\n",
       "      <td>1790</td>\n",
       "      <td>555.0</td>\n",
       "      <td>150.0</td>\n",
       "      <td>visa</td>\n",
       "      <td>226.0</td>\n",
       "      <td>debit</td>\n",
       "      <td>170.0</td>\n",
       "      <td>87.0</td>\n",
       "      <td>aol.com</td>\n",
       "      <td>...</td>\n",
       "      <td>0.000000</td>\n",
       "      <td>0.000000</td>\n",
       "      <td>0.000000</td>\n",
       "      <td>0.000000</td>\n",
       "      <td>0.0</td>\n",
       "      <td>0.0</td>\n",
       "      <td>0.0</td>\n",
       "      <td>0.000000</td>\n",
       "      <td>0.000000</td>\n",
       "      <td>0.000000</td>\n",
       "    </tr>\n",
       "  </tbody>\n",
       "</table>\n",
       "<p>5 rows × 223 columns</p>\n",
       "</div>"
      ],
      "text/plain": [
       "  ProductCD  card1  card2  card3       card4  card5   card6  addr1 addr2  \\\n",
       "0         H   4497  514.0  150.0  mastercard  102.0  credit  420.0  87.0   \n",
       "1         H   2803  100.0  150.0        visa  226.0   debit  337.0  87.0   \n",
       "2         C  16496  352.0  117.0  mastercard  134.0  credit     NA    NA   \n",
       "3         C   4461  375.0  185.0  mastercard  224.0   debit     NA    NA   \n",
       "4         H   1790  555.0  150.0        visa  226.0   debit  170.0  87.0   \n",
       "\n",
       "   P_emaildomain  ...       V312       V313       V314       V315 V316 V317  \\\n",
       "0      gmail.com  ...   0.000000   0.000000   0.000000   0.000000  0.0  0.0   \n",
       "1  anonymous.com  ...   0.000000   0.000000   0.000000   0.000000  0.0  0.0   \n",
       "2      gmail.com  ...  90.327904  90.327904  90.327904  90.327904  0.0  0.0   \n",
       "3    hotmail.com  ...   0.000000   0.000000   0.000000   0.000000  0.0  0.0   \n",
       "4        aol.com  ...   0.000000   0.000000   0.000000   0.000000  0.0  0.0   \n",
       "\n",
       "  V318       V319       V320       V321  \n",
       "0  0.0   0.000000   0.000000   0.000000  \n",
       "1  0.0   0.000000   0.000000   0.000000  \n",
       "2  0.0  75.887497  75.887497  75.887497  \n",
       "3  0.0   0.000000   0.000000   0.000000  \n",
       "4  0.0   0.000000   0.000000   0.000000  \n",
       "\n",
       "[5 rows x 223 columns]"
      ]
     },
     "execution_count": 72,
     "metadata": {},
     "output_type": "execute_result"
    }
   ],
   "source": [
    "x.head()"
   ]
  },
  {
   "cell_type": "code",
   "execution_count": 73,
   "id": "streaming-florida",
   "metadata": {},
   "outputs": [
    {
     "data": {
      "text/html": [
       "<div>\n",
       "<style scoped>\n",
       "    .dataframe tbody tr th:only-of-type {\n",
       "        vertical-align: middle;\n",
       "    }\n",
       "\n",
       "    .dataframe tbody tr th {\n",
       "        vertical-align: top;\n",
       "    }\n",
       "\n",
       "    .dataframe thead th {\n",
       "        text-align: right;\n",
       "    }\n",
       "</style>\n",
       "<table border=\"1\" class=\"dataframe\">\n",
       "  <thead>\n",
       "    <tr style=\"text-align: right;\">\n",
       "      <th></th>\n",
       "      <th>ProductCD</th>\n",
       "      <th>card1</th>\n",
       "      <th>card2</th>\n",
       "      <th>card3</th>\n",
       "      <th>card4</th>\n",
       "      <th>card5</th>\n",
       "      <th>card6</th>\n",
       "      <th>addr1</th>\n",
       "      <th>addr2</th>\n",
       "      <th>P_emaildomain</th>\n",
       "      <th>...</th>\n",
       "      <th>V312</th>\n",
       "      <th>V313</th>\n",
       "      <th>V314</th>\n",
       "      <th>V315</th>\n",
       "      <th>V316</th>\n",
       "      <th>V317</th>\n",
       "      <th>V318</th>\n",
       "      <th>V319</th>\n",
       "      <th>V320</th>\n",
       "      <th>V321</th>\n",
       "    </tr>\n",
       "  </thead>\n",
       "  <tbody>\n",
       "    <tr>\n",
       "      <th>0</th>\n",
       "      <td>C</td>\n",
       "      <td>15885</td>\n",
       "      <td>545.0</td>\n",
       "      <td>185.0</td>\n",
       "      <td>visa</td>\n",
       "      <td>138.0</td>\n",
       "      <td>debit</td>\n",
       "      <td>NA</td>\n",
       "      <td>NA</td>\n",
       "      <td>hotmail.com</td>\n",
       "      <td>...</td>\n",
       "      <td>0.0</td>\n",
       "      <td>21.238136</td>\n",
       "      <td>43.269524</td>\n",
       "      <td>26.730428</td>\n",
       "      <td>0.0</td>\n",
       "      <td>0.0</td>\n",
       "      <td>0.0</td>\n",
       "      <td>0.000</td>\n",
       "      <td>0.000</td>\n",
       "      <td>0.000</td>\n",
       "    </tr>\n",
       "    <tr>\n",
       "      <th>1</th>\n",
       "      <td>S</td>\n",
       "      <td>2453</td>\n",
       "      <td>399.0</td>\n",
       "      <td>150.0</td>\n",
       "      <td>american express</td>\n",
       "      <td>137.0</td>\n",
       "      <td>credit</td>\n",
       "      <td>494.0</td>\n",
       "      <td>87.0</td>\n",
       "      <td>NA</td>\n",
       "      <td>...</td>\n",
       "      <td>90.0</td>\n",
       "      <td>60.000000</td>\n",
       "      <td>310.000000</td>\n",
       "      <td>130.000000</td>\n",
       "      <td>0.0</td>\n",
       "      <td>0.0</td>\n",
       "      <td>0.0</td>\n",
       "      <td>0.000</td>\n",
       "      <td>0.000</td>\n",
       "      <td>0.000</td>\n",
       "    </tr>\n",
       "    <tr>\n",
       "      <th>2</th>\n",
       "      <td>C</td>\n",
       "      <td>15885</td>\n",
       "      <td>545.0</td>\n",
       "      <td>185.0</td>\n",
       "      <td>visa</td>\n",
       "      <td>138.0</td>\n",
       "      <td>debit</td>\n",
       "      <td>NA</td>\n",
       "      <td>NA</td>\n",
       "      <td>anonymous.com</td>\n",
       "      <td>...</td>\n",
       "      <td>0.0</td>\n",
       "      <td>21.238136</td>\n",
       "      <td>43.269524</td>\n",
       "      <td>26.730428</td>\n",
       "      <td>0.0</td>\n",
       "      <td>0.0</td>\n",
       "      <td>0.0</td>\n",
       "      <td>0.000</td>\n",
       "      <td>0.000</td>\n",
       "      <td>0.000</td>\n",
       "    </tr>\n",
       "    <tr>\n",
       "      <th>3</th>\n",
       "      <td>C</td>\n",
       "      <td>15885</td>\n",
       "      <td>545.0</td>\n",
       "      <td>185.0</td>\n",
       "      <td>visa</td>\n",
       "      <td>138.0</td>\n",
       "      <td>debit</td>\n",
       "      <td>NA</td>\n",
       "      <td>NA</td>\n",
       "      <td>hotmail.com</td>\n",
       "      <td>...</td>\n",
       "      <td>0.0</td>\n",
       "      <td>21.238136</td>\n",
       "      <td>43.269524</td>\n",
       "      <td>26.730428</td>\n",
       "      <td>0.0</td>\n",
       "      <td>0.0</td>\n",
       "      <td>0.0</td>\n",
       "      <td>6.271</td>\n",
       "      <td>6.271</td>\n",
       "      <td>6.271</td>\n",
       "    </tr>\n",
       "    <tr>\n",
       "      <th>4</th>\n",
       "      <td>C</td>\n",
       "      <td>9633</td>\n",
       "      <td>130.0</td>\n",
       "      <td>185.0</td>\n",
       "      <td>visa</td>\n",
       "      <td>138.0</td>\n",
       "      <td>debit</td>\n",
       "      <td>NA</td>\n",
       "      <td>NA</td>\n",
       "      <td>hotmail.com</td>\n",
       "      <td>...</td>\n",
       "      <td>0.0</td>\n",
       "      <td>21.238136</td>\n",
       "      <td>43.269524</td>\n",
       "      <td>26.730428</td>\n",
       "      <td>0.0</td>\n",
       "      <td>0.0</td>\n",
       "      <td>0.0</td>\n",
       "      <td>0.000</td>\n",
       "      <td>0.000</td>\n",
       "      <td>0.000</td>\n",
       "    </tr>\n",
       "  </tbody>\n",
       "</table>\n",
       "<p>5 rows × 223 columns</p>\n",
       "</div>"
      ],
      "text/plain": [
       "  ProductCD  card1  card2  card3             card4  card5   card6  addr1  \\\n",
       "0         C  15885  545.0  185.0              visa  138.0   debit     NA   \n",
       "1         S   2453  399.0  150.0  american express  137.0  credit  494.0   \n",
       "2         C  15885  545.0  185.0              visa  138.0   debit     NA   \n",
       "3         C  15885  545.0  185.0              visa  138.0   debit     NA   \n",
       "4         C   9633  130.0  185.0              visa  138.0   debit     NA   \n",
       "\n",
       "  addr2  P_emaildomain  ...  V312       V313        V314        V315 V316  \\\n",
       "0    NA    hotmail.com  ...   0.0  21.238136   43.269524   26.730428  0.0   \n",
       "1  87.0             NA  ...  90.0  60.000000  310.000000  130.000000  0.0   \n",
       "2    NA  anonymous.com  ...   0.0  21.238136   43.269524   26.730428  0.0   \n",
       "3    NA    hotmail.com  ...   0.0  21.238136   43.269524   26.730428  0.0   \n",
       "4    NA    hotmail.com  ...   0.0  21.238136   43.269524   26.730428  0.0   \n",
       "\n",
       "  V317 V318   V319   V320   V321  \n",
       "0  0.0  0.0  0.000  0.000  0.000  \n",
       "1  0.0  0.0  0.000  0.000  0.000  \n",
       "2  0.0  0.0  0.000  0.000  0.000  \n",
       "3  0.0  0.0  6.271  6.271  6.271  \n",
       "4  0.0  0.0  0.000  0.000  0.000  \n",
       "\n",
       "[5 rows x 223 columns]"
      ]
     },
     "execution_count": 73,
     "metadata": {},
     "output_type": "execute_result"
    }
   ],
   "source": [
    "tst_out.head()"
   ]
  },
  {
   "cell_type": "code",
   "execution_count": 74,
   "id": "driving-duplicate",
   "metadata": {},
   "outputs": [
    {
     "name": "stdout",
     "output_type": "stream",
     "text": [
      "object\n"
     ]
    }
   ],
   "source": [
    "print(x.ProductCD.dtype)"
   ]
  },
  {
   "cell_type": "code",
   "execution_count": 75,
   "id": "pointed-latin",
   "metadata": {},
   "outputs": [
    {
     "data": {
      "text/plain": [
       "count     506691\n",
       "unique         5\n",
       "top            W\n",
       "freq      360987\n",
       "Name: ProductCD, dtype: object"
      ]
     },
     "execution_count": 75,
     "metadata": {},
     "output_type": "execute_result"
    }
   ],
   "source": [
    "tst_out['ProductCD'].describe()\n",
    "    "
   ]
  },
  {
   "cell_type": "code",
   "execution_count": 76,
   "id": "quarterly-yukon",
   "metadata": {},
   "outputs": [
    {
     "data": {
      "text/plain": [
       "count    590540.00000\n",
       "mean         39.17391\n",
       "std         172.12659\n",
       "min           0.00000\n",
       "25%           0.00000\n",
       "50%           0.00000\n",
       "75%           0.00000\n",
       "max       55125.00000\n",
       "Name: V312, dtype: float64"
      ]
     },
     "execution_count": 76,
     "metadata": {},
     "output_type": "execute_result"
    }
   ],
   "source": [
    "x.V312.describe()"
   ]
  },
  {
   "cell_type": "code",
   "execution_count": 77,
   "id": "secret-catalyst",
   "metadata": {},
   "outputs": [],
   "source": [
    "for c in cat_col:\n",
    "    x[c+'freq']=(x.groupby(c)[c].transform('count')/x[c].count())\n",
    "    tst_out[c+'freq']=(tst_out.groupby(c)[c].transform('count')/tst_out[c].count())\n",
    "    \n",
    "    "
   ]
  },
  {
   "cell_type": "code",
   "execution_count": 78,
   "id": "southern-amazon",
   "metadata": {},
   "outputs": [
    {
     "data": {
      "text/html": [
       "<div>\n",
       "<style scoped>\n",
       "    .dataframe tbody tr th:only-of-type {\n",
       "        vertical-align: middle;\n",
       "    }\n",
       "\n",
       "    .dataframe tbody tr th {\n",
       "        vertical-align: top;\n",
       "    }\n",
       "\n",
       "    .dataframe thead th {\n",
       "        text-align: right;\n",
       "    }\n",
       "</style>\n",
       "<table border=\"1\" class=\"dataframe\">\n",
       "  <thead>\n",
       "    <tr style=\"text-align: right;\">\n",
       "      <th></th>\n",
       "      <th>card4</th>\n",
       "      <th>card4freq</th>\n",
       "    </tr>\n",
       "  </thead>\n",
       "  <tbody>\n",
       "    <tr>\n",
       "      <th>0</th>\n",
       "      <td>mastercard</td>\n",
       "      <td>0.320414</td>\n",
       "    </tr>\n",
       "    <tr>\n",
       "      <th>1</th>\n",
       "      <td>visa</td>\n",
       "      <td>0.651551</td>\n",
       "    </tr>\n",
       "    <tr>\n",
       "      <th>2</th>\n",
       "      <td>mastercard</td>\n",
       "      <td>0.320414</td>\n",
       "    </tr>\n",
       "    <tr>\n",
       "      <th>3</th>\n",
       "      <td>mastercard</td>\n",
       "      <td>0.320414</td>\n",
       "    </tr>\n",
       "    <tr>\n",
       "      <th>4</th>\n",
       "      <td>visa</td>\n",
       "      <td>0.651551</td>\n",
       "    </tr>\n",
       "  </tbody>\n",
       "</table>\n",
       "</div>"
      ],
      "text/plain": [
       "        card4  card4freq\n",
       "0  mastercard   0.320414\n",
       "1        visa   0.651551\n",
       "2  mastercard   0.320414\n",
       "3  mastercard   0.320414\n",
       "4        visa   0.651551"
      ]
     },
     "execution_count": 78,
     "metadata": {},
     "output_type": "execute_result"
    }
   ],
   "source": [
    "x[['card4','card4freq']].head()"
   ]
  },
  {
   "cell_type": "code",
   "execution_count": 79,
   "id": "stable-turner",
   "metadata": {},
   "outputs": [
    {
     "data": {
      "text/plain": [
       "count    590540.000000\n",
       "mean          0.527517\n",
       "std           0.176696\n",
       "min           0.002670\n",
       "25%           0.320414\n",
       "50%           0.651551\n",
       "75%           0.651551\n",
       "max           0.651551\n",
       "Name: card4freq, dtype: float64"
      ]
     },
     "execution_count": 79,
     "metadata": {},
     "output_type": "execute_result"
    }
   ],
   "source": [
    "x['card4freq'].describe()"
   ]
  },
  {
   "cell_type": "code",
   "execution_count": 80,
   "id": "objective-buyer",
   "metadata": {},
   "outputs": [],
   "source": [
    "for c in cat_col:\n",
    "    x[c+'avg'+'TransactionAmt']=(x.groupby(c)['TransactionAmt'].transform('mean'))\n",
    "    tst_out[c+'avg'+'TransactionAmt']=(tst_out.groupby(c)['TransactionAmt'].transform('mean'))\n",
    "    x[c+'avg'+'dist1']=(x.groupby(c)['dist1'].transform('mean'))\n",
    "    tst_out[c+'avg'+'dist1']=(tst_out.groupby(c)['dist1'].transform('mean'))\n",
    "    \n",
    "    x[c+'sum'+'TransactionAmt']=(x.groupby(c)['TransactionAmt'].transform('sum'))\n",
    "    tst_out[c+'sum'+'TransactionAmt']=(tst_out.groupby(c)['TransactionAmt'].transform('sum'))\n",
    "    x[c+'sum'+'dist1']=(x.groupby(c)['dist1'].transform('sum'))\n",
    "    tst_out[c+'sum'+'dist1']=(tst_out.groupby(c)['dist1'].transform('sum'))\n",
    "    \n",
    "    "
   ]
  },
  {
   "cell_type": "code",
   "execution_count": 81,
   "id": "assigned-preference",
   "metadata": {},
   "outputs": [
    {
     "data": {
      "text/plain": [
       "(590540, 318)"
      ]
     },
     "execution_count": 81,
     "metadata": {},
     "output_type": "execute_result"
    }
   ],
   "source": [
    "x.shape"
   ]
  },
  {
   "cell_type": "code",
   "execution_count": 82,
   "id": "extensive-thailand",
   "metadata": {},
   "outputs": [
    {
     "data": {
      "text/plain": [
       "(506691, 318)"
      ]
     },
     "execution_count": 82,
     "metadata": {},
     "output_type": "execute_result"
    }
   ],
   "source": [
    "tst_out.shape"
   ]
  },
  {
   "cell_type": "code",
   "execution_count": 83,
   "id": "packed-crime",
   "metadata": {},
   "outputs": [
    {
     "name": "stdout",
     "output_type": "stream",
     "text": [
      "26\n"
     ]
    }
   ],
   "source": [
    "cnt=0\n",
    "numcreate=[]\n",
    "for i  in range(1,len(num_col)):\n",
    "    for j in range(i+1,len(num_col)):\n",
    "        if x[num_col[i]].corr(x[num_col[j]])>0.95 and  tst_out[num_col[i]].corr(tst_out[num_col[j]])>0.95:\n",
    "            numcreate.append([num_col[i],num_col[j]])\n",
    "            cnt+=1\n",
    "print(cnt)"
   ]
  },
  {
   "cell_type": "code",
   "execution_count": 84,
   "id": "portuguese-flooring",
   "metadata": {},
   "outputs": [],
   "source": [
    "x['Allcard']=x['card1'].astype(str)\n",
    "tst_out['Allcard']=tst_out['card1'].astype(str)\n",
    "for i in range(2,7):\n",
    "    x['Allcard']=x['Allcard']+'_'+x['card'+str(i)].astype(str)\n",
    "    tst_out['Allcard']=tst_out['Allcard']+'_'+tst_out['card'+str(i)].astype(str)"
   ]
  },
  {
   "cell_type": "code",
   "execution_count": 86,
   "id": "hourly-bryan",
   "metadata": {},
   "outputs": [
    {
     "data": {
      "text/plain": [
       "count                                590540\n",
       "unique                                14893\n",
       "top       9500_321.0_150.0_visa_226.0_debit\n",
       "freq                                  14112\n",
       "Name: Allcard, dtype: object"
      ]
     },
     "execution_count": 86,
     "metadata": {},
     "output_type": "execute_result"
    }
   ],
   "source": [
    "x['Allcard'].describe()"
   ]
  },
  {
   "cell_type": "code",
   "execution_count": 87,
   "id": "herbal-classic",
   "metadata": {},
   "outputs": [],
   "source": [
    "x['Alladdr']=x['addr1'].astype(str)+'_'+x['addr2'].astype(str)\n",
    "tst_out['Alladdr']=tst_out['addr1'].astype(str)+'_'+tst_out['addr2'].astype(str)"
   ]
  },
  {
   "cell_type": "code",
   "execution_count": 88,
   "id": "round-memorial",
   "metadata": {},
   "outputs": [
    {
     "data": {
      "text/html": [
       "<div>\n",
       "<style scoped>\n",
       "    .dataframe tbody tr th:only-of-type {\n",
       "        vertical-align: middle;\n",
       "    }\n",
       "\n",
       "    .dataframe tbody tr th {\n",
       "        vertical-align: top;\n",
       "    }\n",
       "\n",
       "    .dataframe thead th {\n",
       "        text-align: right;\n",
       "    }\n",
       "</style>\n",
       "<table border=\"1\" class=\"dataframe\">\n",
       "  <thead>\n",
       "    <tr style=\"text-align: right;\">\n",
       "      <th></th>\n",
       "      <th>Alladdr</th>\n",
       "      <th>addr1</th>\n",
       "    </tr>\n",
       "  </thead>\n",
       "  <tbody>\n",
       "    <tr>\n",
       "      <th>0</th>\n",
       "      <td>420.0_87.0</td>\n",
       "      <td>420.0</td>\n",
       "    </tr>\n",
       "    <tr>\n",
       "      <th>1</th>\n",
       "      <td>337.0_87.0</td>\n",
       "      <td>337.0</td>\n",
       "    </tr>\n",
       "    <tr>\n",
       "      <th>2</th>\n",
       "      <td>NA_NA</td>\n",
       "      <td>NA</td>\n",
       "    </tr>\n",
       "    <tr>\n",
       "      <th>3</th>\n",
       "      <td>NA_NA</td>\n",
       "      <td>NA</td>\n",
       "    </tr>\n",
       "    <tr>\n",
       "      <th>4</th>\n",
       "      <td>170.0_87.0</td>\n",
       "      <td>170.0</td>\n",
       "    </tr>\n",
       "  </tbody>\n",
       "</table>\n",
       "</div>"
      ],
      "text/plain": [
       "      Alladdr  addr1\n",
       "0  420.0_87.0  420.0\n",
       "1  337.0_87.0  337.0\n",
       "2       NA_NA     NA\n",
       "3       NA_NA     NA\n",
       "4  170.0_87.0  170.0"
      ]
     },
     "execution_count": 88,
     "metadata": {},
     "output_type": "execute_result"
    }
   ],
   "source": [
    "x[['Alladdr','addr1']].head()"
   ]
  },
  {
   "cell_type": "code",
   "execution_count": 89,
   "id": "anonymous-jones",
   "metadata": {},
   "outputs": [],
   "source": [
    "x['AllM']=x['M1'].astype(str)\n",
    "tst_out['AllM']=tst_out['M1'].astype(str)\n",
    "for i in range(2,10):\n",
    "    x['AllM']=x['AllM']+'_'+x['M'+str(i)].astype(str)\n",
    "    tst_out['AllM']=tst_out['AllM']+'_'+tst_out['M'+str(i)].astype(str)"
   ]
  },
  {
   "cell_type": "code",
   "execution_count": 93,
   "id": "pressed-judgment",
   "metadata": {},
   "outputs": [
    {
     "name": "stdout",
     "output_type": "stream",
     "text": [
      "<class 'str'>\n"
     ]
    }
   ],
   "source": [
    "print(type(x['AllM'][0]))"
   ]
  },
  {
   "cell_type": "code",
   "execution_count": 94,
   "id": "olympic-geometry",
   "metadata": {},
   "outputs": [],
   "source": [
    "x['AllproductcardM']=x['ProductCD']+'_'+x['Allcard']+'_'+x['AllM']"
   ]
  },
  {
   "cell_type": "code",
   "execution_count": 95,
   "id": "stylish-emperor",
   "metadata": {},
   "outputs": [],
   "source": [
    "tst_out['AllproductcardM']=tst_out['ProductCD']+'_'+tst_out['Allcard']+'_'+tst_out['AllM']"
   ]
  },
  {
   "cell_type": "code",
   "execution_count": 96,
   "id": "scientific-verse",
   "metadata": {},
   "outputs": [
    {
     "data": {
      "text/plain": [
       "(590540, 322)"
      ]
     },
     "execution_count": 96,
     "metadata": {},
     "output_type": "execute_result"
    }
   ],
   "source": [
    "x.shape"
   ]
  },
  {
   "cell_type": "code",
   "execution_count": 97,
   "id": "local-abuse",
   "metadata": {},
   "outputs": [
    {
     "data": {
      "text/plain": [
       "(506691, 322)"
      ]
     },
     "execution_count": 97,
     "metadata": {},
     "output_type": "execute_result"
    }
   ],
   "source": [
    "tst_out.shape"
   ]
  },
  {
   "cell_type": "code",
   "execution_count": 98,
   "id": "proprietary-missouri",
   "metadata": {},
   "outputs": [],
   "source": [
    "for v in numcreate:\n",
    "    x[str(v[0])+'_'+str(v[1])]=x[v[0]]+x[v[1]]\n",
    "    tst_out[str(v[0])+'_'+str(v[1])]=tst_out[v[0]]+tst_out[v[1]]"
   ]
  },
  {
   "cell_type": "code",
   "execution_count": 99,
   "id": "sweet-satin",
   "metadata": {},
   "outputs": [],
   "source": [
    "ncat_col= [c for c in x.columns if\n",
    "                   x[c].dtype == \"object\"]\n",
    "\n",
    "\n",
    "nnum_col = [c for c in x.columns if \n",
    "                  c not in ncat_col]"
   ]
  },
  {
   "cell_type": "code",
   "execution_count": 100,
   "id": "consecutive-permission",
   "metadata": {},
   "outputs": [
    {
     "name": "stdout",
     "output_type": "stream",
     "text": [
      "['ProductCD', 'card1', 'card2', 'card3', 'card4', 'card5', 'card6', 'addr1', 'addr2', 'P_emaildomain', 'M1', 'M2', 'M3', 'M4', 'M5', 'M6', 'M7', 'M8', 'M9', 'Allcard', 'Alladdr', 'AllM', 'AllproductcardM']\n"
     ]
    }
   ],
   "source": [
    "print(ncat_col)"
   ]
  },
  {
   "cell_type": "code",
   "execution_count": 101,
   "id": "needed-cream",
   "metadata": {},
   "outputs": [
    {
     "data": {
      "text/plain": [
       "(590540, 348)"
      ]
     },
     "execution_count": 101,
     "metadata": {},
     "output_type": "execute_result"
    }
   ],
   "source": [
    "x.shape"
   ]
  },
  {
   "cell_type": "code",
   "execution_count": 102,
   "id": "welsh-stranger",
   "metadata": {},
   "outputs": [
    {
     "data": {
      "text/plain": [
       "(506691, 348)"
      ]
     },
     "execution_count": 102,
     "metadata": {},
     "output_type": "execute_result"
    }
   ],
   "source": [
    "tst_out.shape"
   ]
  },
  {
   "cell_type": "code",
   "execution_count": 103,
   "id": "earned-passenger",
   "metadata": {},
   "outputs": [],
   "source": [
    "x=pd.concat((x[ncat_col],x[nnum_col]),axis=1)"
   ]
  },
  {
   "cell_type": "code",
   "execution_count": 104,
   "id": "monthly-sigma",
   "metadata": {},
   "outputs": [],
   "source": [
    "tst_out=pd.concat((tst_out[ncat_col],tst_out[nnum_col]),axis=1)"
   ]
  },
  {
   "cell_type": "code",
   "execution_count": 105,
   "id": "formal-lover",
   "metadata": {},
   "outputs": [],
   "source": [
    "fdt=pd.concat((tst_out,x),axis=0)"
   ]
  },
  {
   "cell_type": "code",
   "execution_count": 106,
   "id": "interim-requirement",
   "metadata": {},
   "outputs": [
    {
     "data": {
      "text/plain": [
       "(1097231, 348)"
      ]
     },
     "execution_count": 106,
     "metadata": {},
     "output_type": "execute_result"
    }
   ],
   "source": [
    "fdt.shape"
   ]
  },
  {
   "cell_type": "code",
   "execution_count": 107,
   "id": "designing-conducting",
   "metadata": {},
   "outputs": [],
   "source": [
    "from sklearn.preprocessing import LabelEncoder\n",
    "le=LabelEncoder()\n",
    "newx=x.copy()\n",
    "newtst_out=tst_out.copy()\n",
    "for c in ncat_col:\n",
    "    le.fit(fdt[c])\n",
    "    newx[c]=le.transform(x[c])\n",
    "    newtst_out[c]=le.transform(tst_out[c])\n"
   ]
  },
  {
   "cell_type": "code",
   "execution_count": 115,
   "id": "comparative-casino",
   "metadata": {},
   "outputs": [
    {
     "data": {
      "text/plain": [
       "count    590540.000000\n",
       "mean          3.604073\n",
       "std           0.615105\n",
       "min           0.000000\n",
       "25%           3.000000\n",
       "50%           4.000000\n",
       "75%           4.000000\n",
       "max           4.000000\n",
       "Name: card4, dtype: float64"
      ]
     },
     "execution_count": 115,
     "metadata": {},
     "output_type": "execute_result"
    }
   ],
   "source": [
    "newx.card4.describe()"
   ]
  },
  {
   "cell_type": "code",
   "execution_count": 116,
   "id": "weighted-making",
   "metadata": {},
   "outputs": [
    {
     "data": {
      "text/plain": [
       "(590540,)"
      ]
     },
     "execution_count": 116,
     "metadata": {},
     "output_type": "execute_result"
    }
   ],
   "source": [
    "y.shape"
   ]
  },
  {
   "cell_type": "code",
   "execution_count": 117,
   "id": "dying-conclusion",
   "metadata": {},
   "outputs": [
    {
     "data": {
      "text/plain": [
       "RandomForestClassifier()"
      ]
     },
     "execution_count": 117,
     "metadata": {},
     "output_type": "execute_result"
    }
   ],
   "source": [
    "from sklearn.ensemble import RandomForestClassifier\n",
    "import matplotlib.pyplot as plt\n",
    "import seaborn as sns\n",
    "model=RandomForestClassifier()\n",
    "model.fit(newx,y.values)"
   ]
  },
  {
   "cell_type": "code",
   "execution_count": 119,
   "id": "intellectual-illustration",
   "metadata": {},
   "outputs": [
    {
     "data": {
      "image/png": "[encoded data removed]",
      "text/plain": [
       "<Figure size 432x288 with 1 Axes>"
      ]
     },
     "metadata": {
      "needs_background": "light"
     },
     "output_type": "display_data"
    }
   ],
   "source": [
    "col_names=ncat_col+nnum_col\n",
    "importances = model.feature_importances_\n",
    "idxs = np.argsort(importances)\n",
    "plt.title('Feature Importances')\n",
    "plt.barh(range(len(idxs)), importances[idxs], align='center')\n",
    "plt.yticks(range(len(idxs)), [col_names[i] for i in idxs])\n",
    "plt.xlabel('Random Forest Feature Importance')\n",
    "plt.show()\n"
   ]
  },
  {
   "cell_type": "code",
   "execution_count": 120,
   "id": "expired-puppy",
   "metadata": {},
   "outputs": [
    {
     "name": "stdout",
     "output_type": "stream",
     "text": [
      "112\n"
     ]
    }
   ],
   "source": [
    "final_col=[col_names[i] for i in idxs if importances[i]>0.0020 ]\n",
    "print(len(final_col))"
   ]
  },
  {
   "cell_type": "code",
   "execution_count": 121,
   "id": "structured-marker",
   "metadata": {},
   "outputs": [
    {
     "name": "stdout",
     "output_type": "stream",
     "text": [
      "['V320', 'V61', 'V24', 'V316', 'V131', 'V76', 'V281', 'V124', 'V134', 'V102', 'V53', 'V54', 'V23', 'card3', 'V125', 'V295', 'V78', 'V126', 'V96', 'V291', 'V62', 'V83', 'V280', 'V38', 'C9', 'V130', 'V128', 'D11', 'V312', 'V133', 'D3', 'V306', 'V318', 'V285', 'V127', 'D5', 'card5sumTransactionAmt', 'card5freq', 'V282', 'V314', 'card5sumdist1', 'V294', 'V317', 'V313', 'card5', 'V315', 'card5avgdist1', 'dist1', 'card5avgTransactionAmt', 'C8', 'D10', 'C7', 'V283', 'AllM', 'V308', 'V310', 'C4', 'V307', 'D4', 'C6', 'P_emaildomain', 'C4_C8', 'D2', 'C12', 'P_emaildomainavgTransactionAmt', 'C7_C12', 'P_emaildomainfreq', 'P_emaildomainsumdist1', 'P_emaildomainsumTransactionAmt', 'C8_C10', 'P_emaildomainavgdist1', 'card2avgdist1', 'D1', 'C11', 'V44', 'D15', 'C4_C10', 'card2sumTransactionAmt', 'V86', 'addr1sumdist1', 'addr1sumTransactionAmt', 'C10', 'card2sumdist1', 'card2freq', 'addr1avgdist1', 'C6_C11', 'addr1freq', 'Alladdr', 'C2', 'addr1', 'addr1avgTransactionAmt', 'card2', 'card1avgdist1', 'C2_C6', 'C2_C11', 'card1sumdist1', 'card1freq', 'V87', 'card1sumTransactionAmt', 'card2avgTransactionAmt', 'Allcard', 'card1', 'card1avgTransactionAmt', 'V45', 'C1_C2', 'AllproductcardM', 'C1_C6', 'C14', 'C1_C11', 'C1', 'C13', 'TransactionAmt']\n"
     ]
    }
   ],
   "source": [
    "print(final_col)"
   ]
  },
  {
   "cell_type": "code",
   "execution_count": 122,
   "id": "filled-nicholas",
   "metadata": {},
   "outputs": [],
   "source": [
    "final_x=newx[final_col]\n",
    "final_tst=newtst_out[final_col]"
   ]
  },
  {
   "cell_type": "code",
   "execution_count": 123,
   "id": "aerial-exposure",
   "metadata": {},
   "outputs": [
    {
     "data": {
      "text/plain": [
       "(590540, 112)"
      ]
     },
     "execution_count": 123,
     "metadata": {},
     "output_type": "execute_result"
    }
   ],
   "source": [
    "final_x.shape"
   ]
  },
  {
   "cell_type": "code",
   "execution_count": 124,
   "id": "gorgeous-latino",
   "metadata": {},
   "outputs": [
    {
     "data": {
      "text/plain": [
       "(506691, 112)"
      ]
     },
     "execution_count": 124,
     "metadata": {},
     "output_type": "execute_result"
    }
   ],
   "source": [
    "final_tst.shape"
   ]
  },
  {
   "cell_type": "code",
   "execution_count": 125,
   "id": "sunrise-maine",
   "metadata": {},
   "outputs": [],
   "source": [
    "df=pd.DataFrame(final_x)\n",
    "df.to_csv('finalx_train.csv',index=False)\n",
    "df=pd.DataFrame(final_tst)\n",
    "df.to_csv('final_tst.csv',index=False)"
   ]
  },
  {
   "cell_type": "code",
   "execution_count": null,
   "id": "superior-single",
   "metadata": {},
   "outputs": [],
   "source": []
  }
 ],
 "metadata": {
  "kernelspec": {
   "display_name": "Python 3",
   "language": "python",
   "name": "python3"
  },
  "language_info": {
   "codemirror_mode": {
    "name": "ipython",
    "version": 3
   },
   "file_extension": ".py",
   "mimetype": "text/x-python",
   "name": "python",
   "nbconvert_exporter": "python",
   "pygments_lexer": "ipython3",
   "version": "3.7.10"
  }
 },
 "nbformat": 4,
 "nbformat_minor": 5
}
