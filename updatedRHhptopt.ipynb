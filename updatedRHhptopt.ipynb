{
 "cells": [
  {
   "cell_type": "code",
   "execution_count": 1,
   "id": "identified-calculation",
   "metadata": {},
   "outputs": [],
   "source": [
    "import pandas as pd\n",
    "import numpy as np\n",
    "from functools import partial\n",
    "from sklearn import ensemble\n",
    "from sklearn import metrics\n",
    "from sklearn import model_selection\n",
    "from skopt import gp_minimize\n",
    "from skopt import space"
   ]
  },
  {
   "cell_type": "code",
   "execution_count": 2,
   "id": "direct-testing",
   "metadata": {},
   "outputs": [],
   "source": [
    "x=pd.read_csv('finalx_train.csv')\n",
    "y=pd.read_csv('y_train.csv')"
   ]
  },
  {
   "cell_type": "code",
   "execution_count": 3,
   "id": "considerable-sixth",
   "metadata": {},
   "outputs": [
    {
     "data": {
      "text/plain": [
       "0    13181\n",
       "1    11303\n",
       "2     7917\n",
       "3    13140\n",
       "4     9648\n",
       "Name: Allcard, dtype: int64"
      ]
     },
     "execution_count": 3,
     "metadata": {},
     "output_type": "execute_result"
    }
   ],
   "source": [
    "x['Allcard'].head()"
   ]
  },
  {
   "cell_type": "code",
   "execution_count": 4,
   "id": "metric-proof",
   "metadata": {},
   "outputs": [
    {
     "data": {
      "text/plain": [
       "(590540, 112)"
      ]
     },
     "execution_count": 4,
     "metadata": {},
     "output_type": "execute_result"
    }
   ],
   "source": [
    "x.shape"
   ]
  },
  {
   "cell_type": "code",
   "execution_count": 5,
   "id": "medium-islam",
   "metadata": {},
   "outputs": [],
   "source": [
    "X=x.values\n",
    "Y=y.values.ravel()"
   ]
  },
  {
   "cell_type": "code",
   "execution_count": 6,
   "id": "pediatric-parts",
   "metadata": {},
   "outputs": [],
   "source": [
    "classifier = ensemble.RandomForestClassifier(n_jobs=-1)"
   ]
  },
  {
   "cell_type": "code",
   "execution_count": 7,
   "id": "editorial-advice",
   "metadata": {},
   "outputs": [],
   "source": [
    "param_grid = {\n",
    " \"n_estimators\": np.arange(100, 1500, 100),\n",
    " \"max_depth\": np.arange(1, 31),\n",
    " \"criterion\": [\"gini\", \"entropy\"]\n",
    " }"
   ]
  },
  {
   "cell_type": "code",
   "execution_count": 10,
   "id": "impossible-kinase",
   "metadata": {},
   "outputs": [],
   "source": [
    "model = model_selection.RandomizedSearchCV(\n",
    " estimator=classifier,\n",
    " param_distributions=param_grid,\n",
    " n_iter=4,\n",
    " scoring=\"accuracy\",\n",
    " verbose=10,\n",
    " n_jobs=1,\n",
    " cv=5\n",
    " )"
   ]
  },
  {
   "cell_type": "code",
   "execution_count": 11,
   "id": "laughing-craft",
   "metadata": {},
   "outputs": [
    {
     "name": "stdout",
     "output_type": "stream",
     "text": [
      "Fitting 5 folds for each of 4 candidates, totalling 20 fits\n",
      "[CV 1/5; 1/4] START criterion=gini, max_depth=14, n_estimators=900..............\n",
      "[CV 1/5; 1/4] END criterion=gini, max_depth=14, n_estimators=900; total time= 3.6min\n",
      "[CV 2/5; 1/4] START criterion=gini, max_depth=14, n_estimators=900..............\n",
      "[CV 2/5; 1/4] END criterion=gini, max_depth=14, n_estimators=900; total time= 3.5min\n",
      "[CV 3/5; 1/4] START criterion=gini, max_depth=14, n_estimators=900..............\n",
      "[CV 3/5; 1/4] END criterion=gini, max_depth=14, n_estimators=900; total time= 3.5min\n",
      "[CV 4/5; 1/4] START criterion=gini, max_depth=14, n_estimators=900..............\n",
      "[CV 4/5; 1/4] END criterion=gini, max_depth=14, n_estimators=900; total time= 3.3min\n",
      "[CV 5/5; 1/4] START criterion=gini, max_depth=14, n_estimators=900..............\n",
      "[CV 5/5; 1/4] END criterion=gini, max_depth=14, n_estimators=900; total time= 3.3min\n",
      "[CV 1/5; 2/4] START criterion=entropy, max_depth=25, n_estimators=200...........\n",
      "[CV 1/5; 2/4] END criterion=entropy, max_depth=25, n_estimators=200; total time= 1.0min\n",
      "[CV 2/5; 2/4] START criterion=entropy, max_depth=25, n_estimators=200...........\n",
      "[CV 2/5; 2/4] END criterion=entropy, max_depth=25, n_estimators=200; total time= 1.0min\n",
      "[CV 3/5; 2/4] START criterion=entropy, max_depth=25, n_estimators=200...........\n",
      "[CV 3/5; 2/4] END criterion=entropy, max_depth=25, n_estimators=200; total time=  59.1s\n",
      "[CV 4/5; 2/4] START criterion=entropy, max_depth=25, n_estimators=200...........\n",
      "[CV 4/5; 2/4] END criterion=entropy, max_depth=25, n_estimators=200; total time=  54.4s\n",
      "[CV 5/5; 2/4] START criterion=entropy, max_depth=25, n_estimators=200...........\n",
      "[CV 5/5; 2/4] END criterion=entropy, max_depth=25, n_estimators=200; total time=  56.0s\n",
      "[CV 1/5; 3/4] START criterion=gini, max_depth=5, n_estimators=1300..............\n",
      "[CV 1/5; 3/4] END criterion=gini, max_depth=5, n_estimators=1300; total time= 2.1min\n",
      "[CV 2/5; 3/4] START criterion=gini, max_depth=5, n_estimators=1300..............\n",
      "[CV 2/5; 3/4] END criterion=gini, max_depth=5, n_estimators=1300; total time= 2.1min\n",
      "[CV 3/5; 3/4] START criterion=gini, max_depth=5, n_estimators=1300..............\n",
      "[CV 3/5; 3/4] END criterion=gini, max_depth=5, n_estimators=1300; total time= 2.1min\n",
      "[CV 4/5; 3/4] START criterion=gini, max_depth=5, n_estimators=1300..............\n",
      "[CV 4/5; 3/4] END criterion=gini, max_depth=5, n_estimators=1300; total time= 2.1min\n",
      "[CV 5/5; 3/4] START criterion=gini, max_depth=5, n_estimators=1300..............\n",
      "[CV 5/5; 3/4] END criterion=gini, max_depth=5, n_estimators=1300; total time= 2.1min\n",
      "[CV 1/5; 4/4] START criterion=gini, max_depth=19, n_estimators=900..............\n",
      "[CV 1/5; 4/4] END criterion=gini, max_depth=19, n_estimators=900; total time= 4.6min\n",
      "[CV 2/5; 4/4] START criterion=gini, max_depth=19, n_estimators=900..............\n",
      "[CV 2/5; 4/4] END criterion=gini, max_depth=19, n_estimators=900; total time= 4.5min\n",
      "[CV 3/5; 4/4] START criterion=gini, max_depth=19, n_estimators=900..............\n",
      "[CV 3/5; 4/4] END criterion=gini, max_depth=19, n_estimators=900; total time= 4.5min\n",
      "[CV 4/5; 4/4] START criterion=gini, max_depth=19, n_estimators=900..............\n",
      "[CV 4/5; 4/4] END criterion=gini, max_depth=19, n_estimators=900; total time= 4.2min\n",
      "[CV 5/5; 4/4] START criterion=gini, max_depth=19, n_estimators=900..............\n",
      "[CV 5/5; 4/4] END criterion=gini, max_depth=19, n_estimators=900; total time= 4.2min\n"
     ]
    },
    {
     "data": {
      "text/plain": [
       "RandomizedSearchCV(cv=5, estimator=RandomForestClassifier(n_jobs=-1), n_iter=4,\n",
       "                   n_jobs=1,\n",
       "                   param_distributions={'criterion': ['gini', 'entropy'],\n",
       "                                        'max_depth': array([ 1,  2,  3,  4,  5,  6,  7,  8,  9, 10, 11, 12, 13, 14, 15, 16, 17,\n",
       "       18, 19, 20, 21, 22, 23, 24, 25, 26, 27, 28, 29, 30]),\n",
       "                                        'n_estimators': array([ 100,  200,  300,  400,  500,  600,  700,  800,  900, 1000, 1100,\n",
       "       1200, 1300, 1400])},\n",
       "                   scoring='accuracy', verbose=10)"
      ]
     },
     "execution_count": 11,
     "metadata": {},
     "output_type": "execute_result"
    }
   ],
   "source": [
    "model.fit(X,Y)"
   ]
  },
  {
   "cell_type": "code",
   "execution_count": 12,
   "id": "destroyed-henry",
   "metadata": {},
   "outputs": [
    {
     "name": "stdout",
     "output_type": "stream",
     "text": [
      "{'bootstrap': True, 'ccp_alpha': 0.0, 'class_weight': None, 'criterion': 'gini', 'max_depth': 19, 'max_features': 'auto', 'max_leaf_nodes': None, 'max_samples': None, 'min_impurity_decrease': 0.0, 'min_impurity_split': None, 'min_samples_leaf': 1, 'min_samples_split': 2, 'min_weight_fraction_leaf': 0.0, 'n_estimators': 900, 'n_jobs': -1, 'oob_score': False, 'random_state': None, 'verbose': 0, 'warm_start': False}\n"
     ]
    }
   ],
   "source": [
    "best_param=model.best_estimator_.get_params()\n",
    "print(best_param)"
   ]
  },
  {
   "cell_type": "code",
   "execution_count": 13,
   "id": "geographic-client",
   "metadata": {},
   "outputs": [
    {
     "data": {
      "text/html": [
       "<div>\n",
       "<style scoped>\n",
       "    .dataframe tbody tr th:only-of-type {\n",
       "        vertical-align: middle;\n",
       "    }\n",
       "\n",
       "    .dataframe tbody tr th {\n",
       "        vertical-align: top;\n",
       "    }\n",
       "\n",
       "    .dataframe thead th {\n",
       "        text-align: right;\n",
       "    }\n",
       "</style>\n",
       "<table border=\"1\" class=\"dataframe\">\n",
       "  <thead>\n",
       "    <tr style=\"text-align: right;\">\n",
       "      <th></th>\n",
       "      <th>bootstrap</th>\n",
       "      <th>ccp_alpha</th>\n",
       "      <th>class_weight</th>\n",
       "      <th>criterion</th>\n",
       "      <th>max_depth</th>\n",
       "      <th>max_features</th>\n",
       "      <th>max_leaf_nodes</th>\n",
       "      <th>max_samples</th>\n",
       "      <th>min_impurity_decrease</th>\n",
       "      <th>min_impurity_split</th>\n",
       "      <th>min_samples_leaf</th>\n",
       "      <th>min_samples_split</th>\n",
       "      <th>min_weight_fraction_leaf</th>\n",
       "      <th>n_estimators</th>\n",
       "      <th>n_jobs</th>\n",
       "      <th>oob_score</th>\n",
       "      <th>random_state</th>\n",
       "      <th>verbose</th>\n",
       "      <th>warm_start</th>\n",
       "    </tr>\n",
       "  </thead>\n",
       "  <tbody>\n",
       "    <tr>\n",
       "      <th>0</th>\n",
       "      <td>True</td>\n",
       "      <td>0.0</td>\n",
       "      <td>None</td>\n",
       "      <td>gini</td>\n",
       "      <td>19</td>\n",
       "      <td>auto</td>\n",
       "      <td>None</td>\n",
       "      <td>None</td>\n",
       "      <td>0.0</td>\n",
       "      <td>None</td>\n",
       "      <td>1</td>\n",
       "      <td>2</td>\n",
       "      <td>0.0</td>\n",
       "      <td>900</td>\n",
       "      <td>-1</td>\n",
       "      <td>False</td>\n",
       "      <td>None</td>\n",
       "      <td>0</td>\n",
       "      <td>False</td>\n",
       "    </tr>\n",
       "  </tbody>\n",
       "</table>\n",
       "</div>"
      ],
      "text/plain": [
       "   bootstrap  ccp_alpha class_weight criterion  max_depth max_features  \\\n",
       "0       True        0.0         None      gini         19         auto   \n",
       "\n",
       "  max_leaf_nodes max_samples  min_impurity_decrease min_impurity_split  \\\n",
       "0           None        None                    0.0               None   \n",
       "\n",
       "   min_samples_leaf  min_samples_split  min_weight_fraction_leaf  \\\n",
       "0                 1                  2                       0.0   \n",
       "\n",
       "   n_estimators  n_jobs  oob_score random_state  verbose  warm_start  \n",
       "0           900      -1      False         None        0       False  "
      ]
     },
     "execution_count": 13,
     "metadata": {},
     "output_type": "execute_result"
    }
   ],
   "source": [
    "df=pd.DataFrame.from_records([best_param])\n",
    "df.head()"
   ]
  },
  {
   "cell_type": "code",
   "execution_count": 14,
   "id": "korean-remainder",
   "metadata": {},
   "outputs": [],
   "source": [
    "df.to_csv('updatedbest_param.csv')"
   ]
  },
  {
   "cell_type": "code",
   "execution_count": 15,
   "id": "lyric-wiring",
   "metadata": {},
   "outputs": [],
   "source": [
    "model2=ensemble.RandomForestClassifier(**best_param)"
   ]
  },
  {
   "cell_type": "code",
   "execution_count": 16,
   "id": "devoted-diana",
   "metadata": {},
   "outputs": [
    {
     "data": {
      "text/plain": [
       "RandomForestClassifier(max_depth=19, n_estimators=900, n_jobs=-1)"
      ]
     },
     "execution_count": 16,
     "metadata": {},
     "output_type": "execute_result"
    }
   ],
   "source": [
    "model2.fit(X,Y)"
   ]
  },
  {
   "cell_type": "code",
   "execution_count": 17,
   "id": "beautiful-westminster",
   "metadata": {},
   "outputs": [],
   "source": [
    "tst_out=pd.read_csv('final_tst.csv')\n",
    "tran_id=pd.read_csv('trans_id.csv')"
   ]
  },
  {
   "cell_type": "code",
   "execution_count": 18,
   "id": "residential-landing",
   "metadata": {},
   "outputs": [],
   "source": [
    "ti=tran_id.values"
   ]
  },
  {
   "cell_type": "code",
   "execution_count": 19,
   "id": "unlimited-bishop",
   "metadata": {},
   "outputs": [],
   "source": [
    "to=tst_out.values"
   ]
  },
  {
   "cell_type": "code",
   "execution_count": 20,
   "id": "spoken-failure",
   "metadata": {},
   "outputs": [],
   "source": [
    "tp=model2.predict_proba(to)"
   ]
  },
  {
   "cell_type": "code",
   "execution_count": 21,
   "id": "operational-oriental",
   "metadata": {},
   "outputs": [],
   "source": [
    "submission3 = pd.DataFrame({\n",
    "    'TransactionID' : ti.ravel() ,\n",
    "    'isFraud' : tp[:,1]\n",
    "})"
   ]
  },
  {
   "cell_type": "code",
   "execution_count": 22,
   "id": "ranging-present",
   "metadata": {},
   "outputs": [
    {
     "data": {
      "text/plain": [
       "array([[0.89894595, 0.10105405],\n",
       "       [0.92842352, 0.07157648],\n",
       "       [0.98273377, 0.01726623],\n",
       "       [0.93102252, 0.06897748],\n",
       "       [0.74192999, 0.25807001]])"
      ]
     },
     "execution_count": 22,
     "metadata": {},
     "output_type": "execute_result"
    }
   ],
   "source": [
    "tp[:5]"
   ]
  },
  {
   "cell_type": "code",
   "execution_count": 23,
   "id": "assigned-suicide",
   "metadata": {},
   "outputs": [],
   "source": [
    "submission3.to_csv('updatedsubRFhpt.csv', index=False)"
   ]
  },
  {
   "cell_type": "code",
   "execution_count": 24,
   "id": "assisted-emission",
   "metadata": {},
   "outputs": [
    {
     "data": {
      "text/html": [
       "<div>\n",
       "<style scoped>\n",
       "    .dataframe tbody tr th:only-of-type {\n",
       "        vertical-align: middle;\n",
       "    }\n",
       "\n",
       "    .dataframe tbody tr th {\n",
       "        vertical-align: top;\n",
       "    }\n",
       "\n",
       "    .dataframe thead th {\n",
       "        text-align: right;\n",
       "    }\n",
       "</style>\n",
       "<table border=\"1\" class=\"dataframe\">\n",
       "  <thead>\n",
       "    <tr style=\"text-align: right;\">\n",
       "      <th></th>\n",
       "      <th>TransactionID</th>\n",
       "      <th>isFraud</th>\n",
       "    </tr>\n",
       "  </thead>\n",
       "  <tbody>\n",
       "    <tr>\n",
       "      <th>0</th>\n",
       "      <td>3663586</td>\n",
       "      <td>0.101054</td>\n",
       "    </tr>\n",
       "    <tr>\n",
       "      <th>1</th>\n",
       "      <td>3663588</td>\n",
       "      <td>0.071576</td>\n",
       "    </tr>\n",
       "    <tr>\n",
       "      <th>2</th>\n",
       "      <td>3663597</td>\n",
       "      <td>0.017266</td>\n",
       "    </tr>\n",
       "    <tr>\n",
       "      <th>3</th>\n",
       "      <td>3663601</td>\n",
       "      <td>0.068977</td>\n",
       "    </tr>\n",
       "    <tr>\n",
       "      <th>4</th>\n",
       "      <td>3663602</td>\n",
       "      <td>0.258070</td>\n",
       "    </tr>\n",
       "  </tbody>\n",
       "</table>\n",
       "</div>"
      ],
      "text/plain": [
       "   TransactionID   isFraud\n",
       "0        3663586  0.101054\n",
       "1        3663588  0.071576\n",
       "2        3663597  0.017266\n",
       "3        3663601  0.068977\n",
       "4        3663602  0.258070"
      ]
     },
     "execution_count": 24,
     "metadata": {},
     "output_type": "execute_result"
    }
   ],
   "source": [
    "submission3.head()"
   ]
  },
  {
   "cell_type": "code",
   "execution_count": null,
   "id": "dutch-width",
   "metadata": {},
   "outputs": [],
   "source": []
  }
 ],
 "metadata": {
  "kernelspec": {
   "display_name": "Python 3",
   "language": "python",
   "name": "python3"
  },
  "language_info": {
   "codemirror_mode": {
    "name": "ipython",
    "version": 3
   },
   "file_extension": ".py",
   "mimetype": "text/x-python",
   "name": "python",
   "nbconvert_exporter": "python",
   "pygments_lexer": "ipython3",
   "version": "3.7.10"
  }
 },
 "nbformat": 4,
 "nbformat_minor": 5
}
