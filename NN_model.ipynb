{
 "cells": [
  {
   "cell_type": "code",
   "execution_count": 54,
   "id": "intense-lobby",
   "metadata": {},
   "outputs": [],
   "source": [
    "import pandas as pd\n",
    "import numpy as np\n",
    "from sklearn.model_selection import train_test_split\n",
    "from sklearn.preprocessing import StandardScaler, OneHotEncoder,LabelEncoder,OrdinalEncoder\n",
    "from sklearn.impute import SimpleImputer\n",
    "from sklearn.pipeline import make_pipeline\n",
    "from sklearn.compose import make_column_transformer"
   ]
  },
  {
   "cell_type": "code",
   "execution_count": 55,
   "id": "increasing-satellite",
   "metadata": {},
   "outputs": [],
   "source": [
    "trn_id=pd.read_csv('train_identity.csv') \n",
    "trn_trans=pd.read_csv('train_transaction.csv')"
   ]
  },
  {
   "cell_type": "code",
   "execution_count": 56,
   "id": "boring-dispatch",
   "metadata": {},
   "outputs": [],
   "source": [
    "trn_data=pd.merge(trn_id, trn_trans, on='TransactionID', how='outer')"
   ]
  },
  {
   "cell_type": "code",
   "execution_count": 57,
   "id": "ignored-dividend",
   "metadata": {},
   "outputs": [
    {
     "name": "stdout",
     "output_type": "stream",
     "text": [
      "(590540, 434)\n"
     ]
    }
   ],
   "source": [
    "print(trn_data.shape)"
   ]
  },
  {
   "cell_type": "code",
   "execution_count": 58,
   "id": "gothic-vacation",
   "metadata": {},
   "outputs": [
    {
     "data": {
      "text/plain": [
       "758"
      ]
     },
     "execution_count": 58,
     "metadata": {},
     "output_type": "execute_result"
    }
   ],
   "source": [
    "import gc\n",
    "del trn_id,trn_trans\n",
    "gc.collect()"
   ]
  },
  {
   "cell_type": "code",
   "execution_count": 59,
   "id": "major-jersey",
   "metadata": {},
   "outputs": [
    {
     "data": {
      "text/html": [
       "<div>\n",
       "<style scoped>\n",
       "    .dataframe tbody tr th:only-of-type {\n",
       "        vertical-align: middle;\n",
       "    }\n",
       "\n",
       "    .dataframe tbody tr th {\n",
       "        vertical-align: top;\n",
       "    }\n",
       "\n",
       "    .dataframe thead th {\n",
       "        text-align: right;\n",
       "    }\n",
       "</style>\n",
       "<table border=\"1\" class=\"dataframe\">\n",
       "  <thead>\n",
       "    <tr style=\"text-align: right;\">\n",
       "      <th></th>\n",
       "      <th>TransactionID</th>\n",
       "      <th>id_01</th>\n",
       "      <th>id_02</th>\n",
       "      <th>id_03</th>\n",
       "      <th>id_04</th>\n",
       "      <th>id_05</th>\n",
       "      <th>id_06</th>\n",
       "      <th>id_07</th>\n",
       "      <th>id_08</th>\n",
       "      <th>id_09</th>\n",
       "      <th>...</th>\n",
       "      <th>V330</th>\n",
       "      <th>V331</th>\n",
       "      <th>V332</th>\n",
       "      <th>V333</th>\n",
       "      <th>V334</th>\n",
       "      <th>V335</th>\n",
       "      <th>V336</th>\n",
       "      <th>V337</th>\n",
       "      <th>V338</th>\n",
       "      <th>V339</th>\n",
       "    </tr>\n",
       "  </thead>\n",
       "  <tbody>\n",
       "    <tr>\n",
       "      <th>0</th>\n",
       "      <td>2987004</td>\n",
       "      <td>0.0</td>\n",
       "      <td>70787.0</td>\n",
       "      <td>NaN</td>\n",
       "      <td>NaN</td>\n",
       "      <td>NaN</td>\n",
       "      <td>NaN</td>\n",
       "      <td>NaN</td>\n",
       "      <td>NaN</td>\n",
       "      <td>NaN</td>\n",
       "      <td>...</td>\n",
       "      <td>0.0</td>\n",
       "      <td>0.0</td>\n",
       "      <td>0.0</td>\n",
       "      <td>0.0</td>\n",
       "      <td>0.0</td>\n",
       "      <td>0.0</td>\n",
       "      <td>0.0</td>\n",
       "      <td>0.0</td>\n",
       "      <td>0.0</td>\n",
       "      <td>0.0</td>\n",
       "    </tr>\n",
       "    <tr>\n",
       "      <th>1</th>\n",
       "      <td>2987008</td>\n",
       "      <td>-5.0</td>\n",
       "      <td>98945.0</td>\n",
       "      <td>NaN</td>\n",
       "      <td>NaN</td>\n",
       "      <td>0.0</td>\n",
       "      <td>-5.0</td>\n",
       "      <td>NaN</td>\n",
       "      <td>NaN</td>\n",
       "      <td>NaN</td>\n",
       "      <td>...</td>\n",
       "      <td>0.0</td>\n",
       "      <td>0.0</td>\n",
       "      <td>0.0</td>\n",
       "      <td>0.0</td>\n",
       "      <td>0.0</td>\n",
       "      <td>0.0</td>\n",
       "      <td>0.0</td>\n",
       "      <td>0.0</td>\n",
       "      <td>0.0</td>\n",
       "      <td>0.0</td>\n",
       "    </tr>\n",
       "    <tr>\n",
       "      <th>2</th>\n",
       "      <td>2987010</td>\n",
       "      <td>-5.0</td>\n",
       "      <td>191631.0</td>\n",
       "      <td>0.0</td>\n",
       "      <td>0.0</td>\n",
       "      <td>0.0</td>\n",
       "      <td>0.0</td>\n",
       "      <td>NaN</td>\n",
       "      <td>NaN</td>\n",
       "      <td>0.0</td>\n",
       "      <td>...</td>\n",
       "      <td>NaN</td>\n",
       "      <td>NaN</td>\n",
       "      <td>NaN</td>\n",
       "      <td>NaN</td>\n",
       "      <td>NaN</td>\n",
       "      <td>NaN</td>\n",
       "      <td>NaN</td>\n",
       "      <td>NaN</td>\n",
       "      <td>NaN</td>\n",
       "      <td>NaN</td>\n",
       "    </tr>\n",
       "    <tr>\n",
       "      <th>3</th>\n",
       "      <td>2987011</td>\n",
       "      <td>-5.0</td>\n",
       "      <td>221832.0</td>\n",
       "      <td>NaN</td>\n",
       "      <td>NaN</td>\n",
       "      <td>0.0</td>\n",
       "      <td>-6.0</td>\n",
       "      <td>NaN</td>\n",
       "      <td>NaN</td>\n",
       "      <td>NaN</td>\n",
       "      <td>...</td>\n",
       "      <td>NaN</td>\n",
       "      <td>NaN</td>\n",
       "      <td>NaN</td>\n",
       "      <td>NaN</td>\n",
       "      <td>NaN</td>\n",
       "      <td>NaN</td>\n",
       "      <td>NaN</td>\n",
       "      <td>NaN</td>\n",
       "      <td>NaN</td>\n",
       "      <td>NaN</td>\n",
       "    </tr>\n",
       "    <tr>\n",
       "      <th>4</th>\n",
       "      <td>2987016</td>\n",
       "      <td>0.0</td>\n",
       "      <td>7460.0</td>\n",
       "      <td>0.0</td>\n",
       "      <td>0.0</td>\n",
       "      <td>1.0</td>\n",
       "      <td>0.0</td>\n",
       "      <td>NaN</td>\n",
       "      <td>NaN</td>\n",
       "      <td>0.0</td>\n",
       "      <td>...</td>\n",
       "      <td>0.0</td>\n",
       "      <td>0.0</td>\n",
       "      <td>0.0</td>\n",
       "      <td>0.0</td>\n",
       "      <td>0.0</td>\n",
       "      <td>0.0</td>\n",
       "      <td>0.0</td>\n",
       "      <td>0.0</td>\n",
       "      <td>0.0</td>\n",
       "      <td>0.0</td>\n",
       "    </tr>\n",
       "  </tbody>\n",
       "</table>\n",
       "<p>5 rows × 434 columns</p>\n",
       "</div>"
      ],
      "text/plain": [
       "   TransactionID  id_01     id_02  id_03  id_04  id_05  id_06  id_07  id_08  \\\n",
       "0        2987004    0.0   70787.0    NaN    NaN    NaN    NaN    NaN    NaN   \n",
       "1        2987008   -5.0   98945.0    NaN    NaN    0.0   -5.0    NaN    NaN   \n",
       "2        2987010   -5.0  191631.0    0.0    0.0    0.0    0.0    NaN    NaN   \n",
       "3        2987011   -5.0  221832.0    NaN    NaN    0.0   -6.0    NaN    NaN   \n",
       "4        2987016    0.0    7460.0    0.0    0.0    1.0    0.0    NaN    NaN   \n",
       "\n",
       "   id_09  ...  V330  V331 V332  V333  V334 V335 V336  V337  V338  V339  \n",
       "0    NaN  ...   0.0   0.0  0.0   0.0   0.0  0.0  0.0   0.0   0.0   0.0  \n",
       "1    NaN  ...   0.0   0.0  0.0   0.0   0.0  0.0  0.0   0.0   0.0   0.0  \n",
       "2    0.0  ...   NaN   NaN  NaN   NaN   NaN  NaN  NaN   NaN   NaN   NaN  \n",
       "3    NaN  ...   NaN   NaN  NaN   NaN   NaN  NaN  NaN   NaN   NaN   NaN  \n",
       "4    0.0  ...   0.0   0.0  0.0   0.0   0.0  0.0  0.0   0.0   0.0   0.0  \n",
       "\n",
       "[5 rows x 434 columns]"
      ]
     },
     "execution_count": 59,
     "metadata": {},
     "output_type": "execute_result"
    }
   ],
   "source": [
    "trn_data.head()"
   ]
  },
  {
   "cell_type": "code",
   "execution_count": 60,
   "id": "golden-inside",
   "metadata": {},
   "outputs": [],
   "source": [
    "x=trn_data[trn_data[\"isFraud\"].notna()]"
   ]
  },
  {
   "cell_type": "code",
   "execution_count": 61,
   "id": "equal-leonard",
   "metadata": {},
   "outputs": [
    {
     "data": {
      "text/plain": [
       "0    0\n",
       "1    0\n",
       "2    0\n",
       "3    0\n",
       "4    0\n",
       "Name: isFraud, dtype: int64"
      ]
     },
     "execution_count": 61,
     "metadata": {},
     "output_type": "execute_result"
    }
   ],
   "source": [
    "x[\"isFraud\"].head()"
   ]
  },
  {
   "cell_type": "code",
   "execution_count": 62,
   "id": "ultimate-shoot",
   "metadata": {},
   "outputs": [
    {
     "data": {
      "text/plain": [
       "88"
      ]
     },
     "execution_count": 62,
     "metadata": {},
     "output_type": "execute_result"
    }
   ],
   "source": [
    "del trn_data\n",
    "gc.collect()"
   ]
  },
  {
   "cell_type": "code",
   "execution_count": 63,
   "id": "accredited-university",
   "metadata": {},
   "outputs": [],
   "source": [
    "y=x.pop(\"isFraud\")"
   ]
  },
  {
   "cell_type": "code",
   "execution_count": 64,
   "id": "arranged-times",
   "metadata": {},
   "outputs": [
    {
     "data": {
      "text/plain": [
       "44"
      ]
     },
     "execution_count": 64,
     "metadata": {},
     "output_type": "execute_result"
    }
   ],
   "source": [
    "z=x.pop(\"TransactionID\")\n",
    "del z\n",
    "gc.collect()"
   ]
  },
  {
   "cell_type": "code",
   "execution_count": 65,
   "id": "incorporated-election",
   "metadata": {},
   "outputs": [
    {
     "data": {
      "text/plain": [
       "(590540, 432)"
      ]
     },
     "execution_count": 65,
     "metadata": {},
     "output_type": "execute_result"
    }
   ],
   "source": [
    "x.shape\n"
   ]
  },
  {
   "cell_type": "code",
   "execution_count": 66,
   "id": "alive-heritage",
   "metadata": {},
   "outputs": [
    {
     "data": {
      "text/html": [
       "<div>\n",
       "<style scoped>\n",
       "    .dataframe tbody tr th:only-of-type {\n",
       "        vertical-align: middle;\n",
       "    }\n",
       "\n",
       "    .dataframe tbody tr th {\n",
       "        vertical-align: top;\n",
       "    }\n",
       "\n",
       "    .dataframe thead th {\n",
       "        text-align: right;\n",
       "    }\n",
       "</style>\n",
       "<table border=\"1\" class=\"dataframe\">\n",
       "  <thead>\n",
       "    <tr style=\"text-align: right;\">\n",
       "      <th></th>\n",
       "      <th>id_01</th>\n",
       "      <th>id_02</th>\n",
       "      <th>id_03</th>\n",
       "      <th>id_04</th>\n",
       "      <th>id_05</th>\n",
       "      <th>id_06</th>\n",
       "      <th>id_07</th>\n",
       "      <th>id_08</th>\n",
       "      <th>id_09</th>\n",
       "      <th>id_10</th>\n",
       "      <th>...</th>\n",
       "      <th>V330</th>\n",
       "      <th>V331</th>\n",
       "      <th>V332</th>\n",
       "      <th>V333</th>\n",
       "      <th>V334</th>\n",
       "      <th>V335</th>\n",
       "      <th>V336</th>\n",
       "      <th>V337</th>\n",
       "      <th>V338</th>\n",
       "      <th>V339</th>\n",
       "    </tr>\n",
       "  </thead>\n",
       "  <tbody>\n",
       "    <tr>\n",
       "      <th>0</th>\n",
       "      <td>0.0</td>\n",
       "      <td>70787.0</td>\n",
       "      <td>NaN</td>\n",
       "      <td>NaN</td>\n",
       "      <td>NaN</td>\n",
       "      <td>NaN</td>\n",
       "      <td>NaN</td>\n",
       "      <td>NaN</td>\n",
       "      <td>NaN</td>\n",
       "      <td>NaN</td>\n",
       "      <td>...</td>\n",
       "      <td>0.0</td>\n",
       "      <td>0.0</td>\n",
       "      <td>0.0</td>\n",
       "      <td>0.0</td>\n",
       "      <td>0.0</td>\n",
       "      <td>0.0</td>\n",
       "      <td>0.0</td>\n",
       "      <td>0.0</td>\n",
       "      <td>0.0</td>\n",
       "      <td>0.0</td>\n",
       "    </tr>\n",
       "    <tr>\n",
       "      <th>1</th>\n",
       "      <td>-5.0</td>\n",
       "      <td>98945.0</td>\n",
       "      <td>NaN</td>\n",
       "      <td>NaN</td>\n",
       "      <td>0.0</td>\n",
       "      <td>-5.0</td>\n",
       "      <td>NaN</td>\n",
       "      <td>NaN</td>\n",
       "      <td>NaN</td>\n",
       "      <td>NaN</td>\n",
       "      <td>...</td>\n",
       "      <td>0.0</td>\n",
       "      <td>0.0</td>\n",
       "      <td>0.0</td>\n",
       "      <td>0.0</td>\n",
       "      <td>0.0</td>\n",
       "      <td>0.0</td>\n",
       "      <td>0.0</td>\n",
       "      <td>0.0</td>\n",
       "      <td>0.0</td>\n",
       "      <td>0.0</td>\n",
       "    </tr>\n",
       "    <tr>\n",
       "      <th>2</th>\n",
       "      <td>-5.0</td>\n",
       "      <td>191631.0</td>\n",
       "      <td>0.0</td>\n",
       "      <td>0.0</td>\n",
       "      <td>0.0</td>\n",
       "      <td>0.0</td>\n",
       "      <td>NaN</td>\n",
       "      <td>NaN</td>\n",
       "      <td>0.0</td>\n",
       "      <td>0.0</td>\n",
       "      <td>...</td>\n",
       "      <td>NaN</td>\n",
       "      <td>NaN</td>\n",
       "      <td>NaN</td>\n",
       "      <td>NaN</td>\n",
       "      <td>NaN</td>\n",
       "      <td>NaN</td>\n",
       "      <td>NaN</td>\n",
       "      <td>NaN</td>\n",
       "      <td>NaN</td>\n",
       "      <td>NaN</td>\n",
       "    </tr>\n",
       "    <tr>\n",
       "      <th>3</th>\n",
       "      <td>-5.0</td>\n",
       "      <td>221832.0</td>\n",
       "      <td>NaN</td>\n",
       "      <td>NaN</td>\n",
       "      <td>0.0</td>\n",
       "      <td>-6.0</td>\n",
       "      <td>NaN</td>\n",
       "      <td>NaN</td>\n",
       "      <td>NaN</td>\n",
       "      <td>NaN</td>\n",
       "      <td>...</td>\n",
       "      <td>NaN</td>\n",
       "      <td>NaN</td>\n",
       "      <td>NaN</td>\n",
       "      <td>NaN</td>\n",
       "      <td>NaN</td>\n",
       "      <td>NaN</td>\n",
       "      <td>NaN</td>\n",
       "      <td>NaN</td>\n",
       "      <td>NaN</td>\n",
       "      <td>NaN</td>\n",
       "    </tr>\n",
       "    <tr>\n",
       "      <th>4</th>\n",
       "      <td>0.0</td>\n",
       "      <td>7460.0</td>\n",
       "      <td>0.0</td>\n",
       "      <td>0.0</td>\n",
       "      <td>1.0</td>\n",
       "      <td>0.0</td>\n",
       "      <td>NaN</td>\n",
       "      <td>NaN</td>\n",
       "      <td>0.0</td>\n",
       "      <td>0.0</td>\n",
       "      <td>...</td>\n",
       "      <td>0.0</td>\n",
       "      <td>0.0</td>\n",
       "      <td>0.0</td>\n",
       "      <td>0.0</td>\n",
       "      <td>0.0</td>\n",
       "      <td>0.0</td>\n",
       "      <td>0.0</td>\n",
       "      <td>0.0</td>\n",
       "      <td>0.0</td>\n",
       "      <td>0.0</td>\n",
       "    </tr>\n",
       "  </tbody>\n",
       "</table>\n",
       "<p>5 rows × 432 columns</p>\n",
       "</div>"
      ],
      "text/plain": [
       "   id_01     id_02  id_03  id_04  id_05  id_06  id_07  id_08  id_09  id_10  \\\n",
       "0    0.0   70787.0    NaN    NaN    NaN    NaN    NaN    NaN    NaN    NaN   \n",
       "1   -5.0   98945.0    NaN    NaN    0.0   -5.0    NaN    NaN    NaN    NaN   \n",
       "2   -5.0  191631.0    0.0    0.0    0.0    0.0    NaN    NaN    0.0    0.0   \n",
       "3   -5.0  221832.0    NaN    NaN    0.0   -6.0    NaN    NaN    NaN    NaN   \n",
       "4    0.0    7460.0    0.0    0.0    1.0    0.0    NaN    NaN    0.0    0.0   \n",
       "\n",
       "   ...  V330 V331  V332  V333 V334 V335  V336  V337  V338  V339  \n",
       "0  ...   0.0  0.0   0.0   0.0  0.0  0.0   0.0   0.0   0.0   0.0  \n",
       "1  ...   0.0  0.0   0.0   0.0  0.0  0.0   0.0   0.0   0.0   0.0  \n",
       "2  ...   NaN  NaN   NaN   NaN  NaN  NaN   NaN   NaN   NaN   NaN  \n",
       "3  ...   NaN  NaN   NaN   NaN  NaN  NaN   NaN   NaN   NaN   NaN  \n",
       "4  ...   0.0  0.0   0.0   0.0  0.0  0.0   0.0   0.0   0.0   0.0  \n",
       "\n",
       "[5 rows x 432 columns]"
      ]
     },
     "execution_count": 66,
     "metadata": {},
     "output_type": "execute_result"
    }
   ],
   "source": [
    "x.head()"
   ]
  },
  {
   "cell_type": "code",
   "execution_count": 68,
   "id": "streaming-protein",
   "metadata": {},
   "outputs": [],
   "source": [
    "ff=[c for c in x.columns if  x[c].isnull().sum() < 0.80 * x.shape[0]]"
   ]
  },
  {
   "cell_type": "code",
   "execution_count": 69,
   "id": "wrapped-reservation",
   "metadata": {},
   "outputs": [
    {
     "name": "stdout",
     "output_type": "stream",
     "text": [
      "358\n"
     ]
    }
   ],
   "source": [
    "print(len(ff))"
   ]
  },
  {
   "cell_type": "code",
   "execution_count": 70,
   "id": "significant-replacement",
   "metadata": {},
   "outputs": [],
   "source": [
    "cat_col= [c for c in ff if\n",
    "                   x[c].dtype == \"object\"]\n",
    "\n",
    "# Select numerical columns\n",
    "num_col = [c for c in ff if \n",
    "                  c not in cat_col]"
   ]
  },
  {
   "cell_type": "code",
   "execution_count": 71,
   "id": "secret-suite",
   "metadata": {},
   "outputs": [
    {
     "name": "stdout",
     "output_type": "stream",
     "text": [
      "['id_12', 'id_15', 'id_16', 'id_28', 'id_29', 'id_31', 'id_35', 'id_36', 'id_37', 'id_38', 'DeviceType', 'DeviceInfo', 'ProductCD', 'card4', 'card6', 'P_emaildomain', 'R_emaildomain', 'M1', 'M2', 'M3', 'M4', 'M5', 'M6', 'M7', 'M8', 'M9']\n"
     ]
    }
   ],
   "source": [
    "print(cat_col)"
   ]
  },
  {
   "cell_type": "code",
   "execution_count": 72,
   "id": "mexican-canada",
   "metadata": {},
   "outputs": [
    {
     "data": {
      "text/plain": [
       "0"
      ]
     },
     "execution_count": 72,
     "metadata": {},
     "output_type": "execute_result"
    }
   ],
   "source": [
    "tst_id=pd.read_csv('test_identity.csv') \n",
    "tst_trans=pd.read_csv('test_transaction.csv')\n",
    "tst_data=pd.merge(tst_id, tst_trans, on='TransactionID', how='outer')\n",
    "del tst_id,tst_trans\n",
    "gc.collect()"
   ]
  },
  {
   "cell_type": "code",
   "execution_count": 73,
   "id": "descending-understanding",
   "metadata": {},
   "outputs": [],
   "source": [
    "trans_id=tst_data.pop(\"TransactionID\")"
   ]
  },
  {
   "cell_type": "code",
   "execution_count": 74,
   "id": "heated-commons",
   "metadata": {},
   "outputs": [],
   "source": [
    "tst_data.rename({'id-01':'id_01','id-02':'id_02','id-03':'id_03','id-04':'id_04','id-05':'id_05','id-06':'id_06','id-07':'id_07','id-08':'id_08','id-09':'id_09','id-10':'id_10','id-11':'id_11','id-12':'id_12','id-13':'id_13','id-14':'id_14','id-15':'id_15','id-16':'id_16','id-17':'id_17','id-18':'id_18','id-19':'id_19','id-20':'id_20','id-21':'id_21','id-22':'id_22','id-23':'id_23','id-24':'id_24','id-25':'id_25','id-26':'id_26','id-27':'id_27','id-28':'id_28','id-29':'id_29','id-30':'id_30','id-31':'id_31', 'id-32':'id_32', 'id-33':'id_33', 'id-34':'id_34', 'id-35':'id_35', 'id-36':'id_36', 'id-37':'id_37', 'id-38':'id_38'}, axis=1, inplace=True)"
   ]
  },
  {
   "cell_type": "code",
   "execution_count": 75,
   "id": "suburban-youth",
   "metadata": {},
   "outputs": [
    {
     "data": {
      "text/html": [
       "<div>\n",
       "<style scoped>\n",
       "    .dataframe tbody tr th:only-of-type {\n",
       "        vertical-align: middle;\n",
       "    }\n",
       "\n",
       "    .dataframe tbody tr th {\n",
       "        vertical-align: top;\n",
       "    }\n",
       "\n",
       "    .dataframe thead th {\n",
       "        text-align: right;\n",
       "    }\n",
       "</style>\n",
       "<table border=\"1\" class=\"dataframe\">\n",
       "  <thead>\n",
       "    <tr style=\"text-align: right;\">\n",
       "      <th></th>\n",
       "      <th>id_01</th>\n",
       "      <th>id_02</th>\n",
       "      <th>id_03</th>\n",
       "      <th>id_04</th>\n",
       "      <th>id_05</th>\n",
       "      <th>id_06</th>\n",
       "      <th>id_07</th>\n",
       "      <th>id_08</th>\n",
       "      <th>id_09</th>\n",
       "      <th>id_10</th>\n",
       "      <th>...</th>\n",
       "      <th>V330</th>\n",
       "      <th>V331</th>\n",
       "      <th>V332</th>\n",
       "      <th>V333</th>\n",
       "      <th>V334</th>\n",
       "      <th>V335</th>\n",
       "      <th>V336</th>\n",
       "      <th>V337</th>\n",
       "      <th>V338</th>\n",
       "      <th>V339</th>\n",
       "    </tr>\n",
       "  </thead>\n",
       "  <tbody>\n",
       "    <tr>\n",
       "      <th>0</th>\n",
       "      <td>-45.0</td>\n",
       "      <td>280290.0</td>\n",
       "      <td>NaN</td>\n",
       "      <td>NaN</td>\n",
       "      <td>0.0</td>\n",
       "      <td>0.0</td>\n",
       "      <td>NaN</td>\n",
       "      <td>NaN</td>\n",
       "      <td>NaN</td>\n",
       "      <td>NaN</td>\n",
       "      <td>...</td>\n",
       "      <td>NaN</td>\n",
       "      <td>NaN</td>\n",
       "      <td>NaN</td>\n",
       "      <td>NaN</td>\n",
       "      <td>NaN</td>\n",
       "      <td>NaN</td>\n",
       "      <td>NaN</td>\n",
       "      <td>NaN</td>\n",
       "      <td>NaN</td>\n",
       "      <td>NaN</td>\n",
       "    </tr>\n",
       "    <tr>\n",
       "      <th>1</th>\n",
       "      <td>0.0</td>\n",
       "      <td>3579.0</td>\n",
       "      <td>0.0</td>\n",
       "      <td>0.0</td>\n",
       "      <td>0.0</td>\n",
       "      <td>0.0</td>\n",
       "      <td>NaN</td>\n",
       "      <td>NaN</td>\n",
       "      <td>0.0</td>\n",
       "      <td>0.0</td>\n",
       "      <td>...</td>\n",
       "      <td>0.0</td>\n",
       "      <td>0.0</td>\n",
       "      <td>310.0</td>\n",
       "      <td>90.0</td>\n",
       "      <td>0.0</td>\n",
       "      <td>310.0</td>\n",
       "      <td>90.0</td>\n",
       "      <td>0.0</td>\n",
       "      <td>0.0</td>\n",
       "      <td>0.0</td>\n",
       "    </tr>\n",
       "    <tr>\n",
       "      <th>2</th>\n",
       "      <td>-5.0</td>\n",
       "      <td>185210.0</td>\n",
       "      <td>NaN</td>\n",
       "      <td>NaN</td>\n",
       "      <td>1.0</td>\n",
       "      <td>0.0</td>\n",
       "      <td>NaN</td>\n",
       "      <td>NaN</td>\n",
       "      <td>NaN</td>\n",
       "      <td>NaN</td>\n",
       "      <td>...</td>\n",
       "      <td>NaN</td>\n",
       "      <td>NaN</td>\n",
       "      <td>NaN</td>\n",
       "      <td>NaN</td>\n",
       "      <td>NaN</td>\n",
       "      <td>NaN</td>\n",
       "      <td>NaN</td>\n",
       "      <td>NaN</td>\n",
       "      <td>NaN</td>\n",
       "      <td>NaN</td>\n",
       "    </tr>\n",
       "    <tr>\n",
       "      <th>3</th>\n",
       "      <td>-45.0</td>\n",
       "      <td>252944.0</td>\n",
       "      <td>0.0</td>\n",
       "      <td>0.0</td>\n",
       "      <td>0.0</td>\n",
       "      <td>0.0</td>\n",
       "      <td>NaN</td>\n",
       "      <td>NaN</td>\n",
       "      <td>0.0</td>\n",
       "      <td>0.0</td>\n",
       "      <td>...</td>\n",
       "      <td>NaN</td>\n",
       "      <td>NaN</td>\n",
       "      <td>NaN</td>\n",
       "      <td>NaN</td>\n",
       "      <td>NaN</td>\n",
       "      <td>NaN</td>\n",
       "      <td>NaN</td>\n",
       "      <td>NaN</td>\n",
       "      <td>NaN</td>\n",
       "      <td>NaN</td>\n",
       "    </tr>\n",
       "    <tr>\n",
       "      <th>4</th>\n",
       "      <td>-95.0</td>\n",
       "      <td>328680.0</td>\n",
       "      <td>NaN</td>\n",
       "      <td>NaN</td>\n",
       "      <td>7.0</td>\n",
       "      <td>-33.0</td>\n",
       "      <td>NaN</td>\n",
       "      <td>NaN</td>\n",
       "      <td>NaN</td>\n",
       "      <td>NaN</td>\n",
       "      <td>...</td>\n",
       "      <td>NaN</td>\n",
       "      <td>NaN</td>\n",
       "      <td>NaN</td>\n",
       "      <td>NaN</td>\n",
       "      <td>NaN</td>\n",
       "      <td>NaN</td>\n",
       "      <td>NaN</td>\n",
       "      <td>NaN</td>\n",
       "      <td>NaN</td>\n",
       "      <td>NaN</td>\n",
       "    </tr>\n",
       "  </tbody>\n",
       "</table>\n",
       "<p>5 rows × 432 columns</p>\n",
       "</div>"
      ],
      "text/plain": [
       "   id_01     id_02  id_03  id_04  id_05  id_06  id_07  id_08  id_09  id_10  \\\n",
       "0  -45.0  280290.0    NaN    NaN    0.0    0.0    NaN    NaN    NaN    NaN   \n",
       "1    0.0    3579.0    0.0    0.0    0.0    0.0    NaN    NaN    0.0    0.0   \n",
       "2   -5.0  185210.0    NaN    NaN    1.0    0.0    NaN    NaN    NaN    NaN   \n",
       "3  -45.0  252944.0    0.0    0.0    0.0    0.0    NaN    NaN    0.0    0.0   \n",
       "4  -95.0  328680.0    NaN    NaN    7.0  -33.0    NaN    NaN    NaN    NaN   \n",
       "\n",
       "   ...  V330 V331   V332  V333 V334   V335  V336  V337  V338  V339  \n",
       "0  ...   NaN  NaN    NaN   NaN  NaN    NaN   NaN   NaN   NaN   NaN  \n",
       "1  ...   0.0  0.0  310.0  90.0  0.0  310.0  90.0   0.0   0.0   0.0  \n",
       "2  ...   NaN  NaN    NaN   NaN  NaN    NaN   NaN   NaN   NaN   NaN  \n",
       "3  ...   NaN  NaN    NaN   NaN  NaN    NaN   NaN   NaN   NaN   NaN  \n",
       "4  ...   NaN  NaN    NaN   NaN  NaN    NaN   NaN   NaN   NaN   NaN  \n",
       "\n",
       "[5 rows x 432 columns]"
      ]
     },
     "execution_count": 75,
     "metadata": {},
     "output_type": "execute_result"
    }
   ],
   "source": [
    "tst_data.head()"
   ]
  },
  {
   "cell_type": "code",
   "execution_count": 76,
   "id": "insured-daily",
   "metadata": {},
   "outputs": [],
   "source": [
    "x=pd.concat((x[cat_col],x[num_col]),axis=1)"
   ]
  },
  {
   "cell_type": "code",
   "execution_count": 77,
   "id": "unlikely-bridges",
   "metadata": {},
   "outputs": [
    {
     "data": {
      "text/html": [
       "<div>\n",
       "<style scoped>\n",
       "    .dataframe tbody tr th:only-of-type {\n",
       "        vertical-align: middle;\n",
       "    }\n",
       "\n",
       "    .dataframe tbody tr th {\n",
       "        vertical-align: top;\n",
       "    }\n",
       "\n",
       "    .dataframe thead th {\n",
       "        text-align: right;\n",
       "    }\n",
       "</style>\n",
       "<table border=\"1\" class=\"dataframe\">\n",
       "  <thead>\n",
       "    <tr style=\"text-align: right;\">\n",
       "      <th></th>\n",
       "      <th>id_12</th>\n",
       "      <th>id_15</th>\n",
       "      <th>id_16</th>\n",
       "      <th>id_28</th>\n",
       "      <th>id_29</th>\n",
       "      <th>id_31</th>\n",
       "      <th>id_35</th>\n",
       "      <th>id_36</th>\n",
       "      <th>id_37</th>\n",
       "      <th>id_38</th>\n",
       "      <th>...</th>\n",
       "      <th>V312</th>\n",
       "      <th>V313</th>\n",
       "      <th>V314</th>\n",
       "      <th>V315</th>\n",
       "      <th>V316</th>\n",
       "      <th>V317</th>\n",
       "      <th>V318</th>\n",
       "      <th>V319</th>\n",
       "      <th>V320</th>\n",
       "      <th>V321</th>\n",
       "    </tr>\n",
       "  </thead>\n",
       "  <tbody>\n",
       "    <tr>\n",
       "      <th>0</th>\n",
       "      <td>NotFound</td>\n",
       "      <td>New</td>\n",
       "      <td>NotFound</td>\n",
       "      <td>New</td>\n",
       "      <td>NotFound</td>\n",
       "      <td>samsung browser 6.2</td>\n",
       "      <td>T</td>\n",
       "      <td>F</td>\n",
       "      <td>T</td>\n",
       "      <td>T</td>\n",
       "      <td>...</td>\n",
       "      <td>0.000000</td>\n",
       "      <td>0.000000</td>\n",
       "      <td>0.000000</td>\n",
       "      <td>0.000000</td>\n",
       "      <td>0.0</td>\n",
       "      <td>0.0</td>\n",
       "      <td>0.0</td>\n",
       "      <td>0.000000</td>\n",
       "      <td>0.000000</td>\n",
       "      <td>0.000000</td>\n",
       "    </tr>\n",
       "    <tr>\n",
       "      <th>1</th>\n",
       "      <td>NotFound</td>\n",
       "      <td>New</td>\n",
       "      <td>NotFound</td>\n",
       "      <td>New</td>\n",
       "      <td>NotFound</td>\n",
       "      <td>mobile safari 11.0</td>\n",
       "      <td>T</td>\n",
       "      <td>F</td>\n",
       "      <td>F</td>\n",
       "      <td>T</td>\n",
       "      <td>...</td>\n",
       "      <td>0.000000</td>\n",
       "      <td>0.000000</td>\n",
       "      <td>0.000000</td>\n",
       "      <td>0.000000</td>\n",
       "      <td>0.0</td>\n",
       "      <td>0.0</td>\n",
       "      <td>0.0</td>\n",
       "      <td>0.000000</td>\n",
       "      <td>0.000000</td>\n",
       "      <td>0.000000</td>\n",
       "    </tr>\n",
       "    <tr>\n",
       "      <th>2</th>\n",
       "      <td>NotFound</td>\n",
       "      <td>Found</td>\n",
       "      <td>Found</td>\n",
       "      <td>Found</td>\n",
       "      <td>Found</td>\n",
       "      <td>chrome 62.0</td>\n",
       "      <td>F</td>\n",
       "      <td>F</td>\n",
       "      <td>T</td>\n",
       "      <td>T</td>\n",
       "      <td>...</td>\n",
       "      <td>90.327904</td>\n",
       "      <td>90.327904</td>\n",
       "      <td>90.327904</td>\n",
       "      <td>90.327904</td>\n",
       "      <td>0.0</td>\n",
       "      <td>0.0</td>\n",
       "      <td>0.0</td>\n",
       "      <td>75.887497</td>\n",
       "      <td>75.887497</td>\n",
       "      <td>75.887497</td>\n",
       "    </tr>\n",
       "    <tr>\n",
       "      <th>3</th>\n",
       "      <td>NotFound</td>\n",
       "      <td>New</td>\n",
       "      <td>NotFound</td>\n",
       "      <td>New</td>\n",
       "      <td>NotFound</td>\n",
       "      <td>chrome 62.0</td>\n",
       "      <td>F</td>\n",
       "      <td>F</td>\n",
       "      <td>T</td>\n",
       "      <td>T</td>\n",
       "      <td>...</td>\n",
       "      <td>0.000000</td>\n",
       "      <td>0.000000</td>\n",
       "      <td>0.000000</td>\n",
       "      <td>0.000000</td>\n",
       "      <td>0.0</td>\n",
       "      <td>0.0</td>\n",
       "      <td>0.0</td>\n",
       "      <td>0.000000</td>\n",
       "      <td>0.000000</td>\n",
       "      <td>0.000000</td>\n",
       "    </tr>\n",
       "    <tr>\n",
       "      <th>4</th>\n",
       "      <td>NotFound</td>\n",
       "      <td>Found</td>\n",
       "      <td>Found</td>\n",
       "      <td>Found</td>\n",
       "      <td>Found</td>\n",
       "      <td>chrome 62.0</td>\n",
       "      <td>T</td>\n",
       "      <td>F</td>\n",
       "      <td>T</td>\n",
       "      <td>T</td>\n",
       "      <td>...</td>\n",
       "      <td>0.000000</td>\n",
       "      <td>0.000000</td>\n",
       "      <td>0.000000</td>\n",
       "      <td>0.000000</td>\n",
       "      <td>0.0</td>\n",
       "      <td>0.0</td>\n",
       "      <td>0.0</td>\n",
       "      <td>0.000000</td>\n",
       "      <td>0.000000</td>\n",
       "      <td>0.000000</td>\n",
       "    </tr>\n",
       "  </tbody>\n",
       "</table>\n",
       "<p>5 rows × 358 columns</p>\n",
       "</div>"
      ],
      "text/plain": [
       "      id_12  id_15     id_16  id_28     id_29                id_31 id_35  \\\n",
       "0  NotFound    New  NotFound    New  NotFound  samsung browser 6.2     T   \n",
       "1  NotFound    New  NotFound    New  NotFound   mobile safari 11.0     T   \n",
       "2  NotFound  Found     Found  Found     Found          chrome 62.0     F   \n",
       "3  NotFound    New  NotFound    New  NotFound          chrome 62.0     F   \n",
       "4  NotFound  Found     Found  Found     Found          chrome 62.0     T   \n",
       "\n",
       "  id_36 id_37 id_38  ...       V312       V313       V314       V315 V316  \\\n",
       "0     F     T     T  ...   0.000000   0.000000   0.000000   0.000000  0.0   \n",
       "1     F     F     T  ...   0.000000   0.000000   0.000000   0.000000  0.0   \n",
       "2     F     T     T  ...  90.327904  90.327904  90.327904  90.327904  0.0   \n",
       "3     F     T     T  ...   0.000000   0.000000   0.000000   0.000000  0.0   \n",
       "4     F     T     T  ...   0.000000   0.000000   0.000000   0.000000  0.0   \n",
       "\n",
       "  V317 V318       V319       V320       V321  \n",
       "0  0.0  0.0   0.000000   0.000000   0.000000  \n",
       "1  0.0  0.0   0.000000   0.000000   0.000000  \n",
       "2  0.0  0.0  75.887497  75.887497  75.887497  \n",
       "3  0.0  0.0   0.000000   0.000000   0.000000  \n",
       "4  0.0  0.0   0.000000   0.000000   0.000000  \n",
       "\n",
       "[5 rows x 358 columns]"
      ]
     },
     "execution_count": 77,
     "metadata": {},
     "output_type": "execute_result"
    }
   ],
   "source": [
    "x.head()"
   ]
  },
  {
   "cell_type": "code",
   "execution_count": 78,
   "id": "inside-niger",
   "metadata": {},
   "outputs": [
    {
     "data": {
      "text/plain": [
       "(590540, 358)"
      ]
     },
     "execution_count": 78,
     "metadata": {},
     "output_type": "execute_result"
    }
   ],
   "source": [
    "x.shape"
   ]
  },
  {
   "cell_type": "code",
   "execution_count": 79,
   "id": "adjacent-george",
   "metadata": {},
   "outputs": [],
   "source": [
    "tst_out=pd.concat((tst_data[cat_col],tst_data[num_col]),axis=1)"
   ]
  },
  {
   "cell_type": "code",
   "execution_count": 80,
   "id": "floral-radar",
   "metadata": {},
   "outputs": [
    {
     "data": {
      "text/html": [
       "<div>\n",
       "<style scoped>\n",
       "    .dataframe tbody tr th:only-of-type {\n",
       "        vertical-align: middle;\n",
       "    }\n",
       "\n",
       "    .dataframe tbody tr th {\n",
       "        vertical-align: top;\n",
       "    }\n",
       "\n",
       "    .dataframe thead th {\n",
       "        text-align: right;\n",
       "    }\n",
       "</style>\n",
       "<table border=\"1\" class=\"dataframe\">\n",
       "  <thead>\n",
       "    <tr style=\"text-align: right;\">\n",
       "      <th></th>\n",
       "      <th>id_12</th>\n",
       "      <th>id_15</th>\n",
       "      <th>id_16</th>\n",
       "      <th>id_28</th>\n",
       "      <th>id_29</th>\n",
       "      <th>id_31</th>\n",
       "      <th>id_35</th>\n",
       "      <th>id_36</th>\n",
       "      <th>id_37</th>\n",
       "      <th>id_38</th>\n",
       "      <th>...</th>\n",
       "      <th>V312</th>\n",
       "      <th>V313</th>\n",
       "      <th>V314</th>\n",
       "      <th>V315</th>\n",
       "      <th>V316</th>\n",
       "      <th>V317</th>\n",
       "      <th>V318</th>\n",
       "      <th>V319</th>\n",
       "      <th>V320</th>\n",
       "      <th>V321</th>\n",
       "    </tr>\n",
       "  </thead>\n",
       "  <tbody>\n",
       "    <tr>\n",
       "      <th>0</th>\n",
       "      <td>NotFound</td>\n",
       "      <td>New</td>\n",
       "      <td>NotFound</td>\n",
       "      <td>New</td>\n",
       "      <td>NotFound</td>\n",
       "      <td>chrome 67.0 for android</td>\n",
       "      <td>F</td>\n",
       "      <td>F</td>\n",
       "      <td>T</td>\n",
       "      <td>F</td>\n",
       "      <td>...</td>\n",
       "      <td>0.0</td>\n",
       "      <td>NaN</td>\n",
       "      <td>NaN</td>\n",
       "      <td>NaN</td>\n",
       "      <td>0.0</td>\n",
       "      <td>0.0</td>\n",
       "      <td>0.0</td>\n",
       "      <td>0.000</td>\n",
       "      <td>0.000</td>\n",
       "      <td>0.000</td>\n",
       "    </tr>\n",
       "    <tr>\n",
       "      <th>1</th>\n",
       "      <td>Found</td>\n",
       "      <td>Found</td>\n",
       "      <td>Found</td>\n",
       "      <td>Found</td>\n",
       "      <td>Found</td>\n",
       "      <td>chrome 67.0 for android</td>\n",
       "      <td>T</td>\n",
       "      <td>F</td>\n",
       "      <td>T</td>\n",
       "      <td>T</td>\n",
       "      <td>...</td>\n",
       "      <td>90.0</td>\n",
       "      <td>60.0</td>\n",
       "      <td>310.0</td>\n",
       "      <td>130.0</td>\n",
       "      <td>0.0</td>\n",
       "      <td>0.0</td>\n",
       "      <td>0.0</td>\n",
       "      <td>0.000</td>\n",
       "      <td>0.000</td>\n",
       "      <td>0.000</td>\n",
       "    </tr>\n",
       "    <tr>\n",
       "      <th>2</th>\n",
       "      <td>NotFound</td>\n",
       "      <td>New</td>\n",
       "      <td>NotFound</td>\n",
       "      <td>New</td>\n",
       "      <td>NotFound</td>\n",
       "      <td>ie 11.0 for tablet</td>\n",
       "      <td>F</td>\n",
       "      <td>T</td>\n",
       "      <td>T</td>\n",
       "      <td>F</td>\n",
       "      <td>...</td>\n",
       "      <td>0.0</td>\n",
       "      <td>NaN</td>\n",
       "      <td>NaN</td>\n",
       "      <td>NaN</td>\n",
       "      <td>0.0</td>\n",
       "      <td>0.0</td>\n",
       "      <td>0.0</td>\n",
       "      <td>0.000</td>\n",
       "      <td>0.000</td>\n",
       "      <td>0.000</td>\n",
       "    </tr>\n",
       "    <tr>\n",
       "      <th>3</th>\n",
       "      <td>NotFound</td>\n",
       "      <td>Found</td>\n",
       "      <td>Found</td>\n",
       "      <td>Found</td>\n",
       "      <td>Found</td>\n",
       "      <td>chrome 67.0 for android</td>\n",
       "      <td>F</td>\n",
       "      <td>F</td>\n",
       "      <td>T</td>\n",
       "      <td>F</td>\n",
       "      <td>...</td>\n",
       "      <td>0.0</td>\n",
       "      <td>NaN</td>\n",
       "      <td>NaN</td>\n",
       "      <td>NaN</td>\n",
       "      <td>0.0</td>\n",
       "      <td>0.0</td>\n",
       "      <td>0.0</td>\n",
       "      <td>6.271</td>\n",
       "      <td>6.271</td>\n",
       "      <td>6.271</td>\n",
       "    </tr>\n",
       "    <tr>\n",
       "      <th>4</th>\n",
       "      <td>NotFound</td>\n",
       "      <td>New</td>\n",
       "      <td>NotFound</td>\n",
       "      <td>New</td>\n",
       "      <td>NotFound</td>\n",
       "      <td>chrome 67.0 for android</td>\n",
       "      <td>F</td>\n",
       "      <td>F</td>\n",
       "      <td>T</td>\n",
       "      <td>F</td>\n",
       "      <td>...</td>\n",
       "      <td>0.0</td>\n",
       "      <td>NaN</td>\n",
       "      <td>NaN</td>\n",
       "      <td>NaN</td>\n",
       "      <td>0.0</td>\n",
       "      <td>0.0</td>\n",
       "      <td>0.0</td>\n",
       "      <td>0.000</td>\n",
       "      <td>0.000</td>\n",
       "      <td>0.000</td>\n",
       "    </tr>\n",
       "  </tbody>\n",
       "</table>\n",
       "<p>5 rows × 358 columns</p>\n",
       "</div>"
      ],
      "text/plain": [
       "      id_12  id_15     id_16  id_28     id_29                    id_31 id_35  \\\n",
       "0  NotFound    New  NotFound    New  NotFound  chrome 67.0 for android     F   \n",
       "1     Found  Found     Found  Found     Found  chrome 67.0 for android     T   \n",
       "2  NotFound    New  NotFound    New  NotFound       ie 11.0 for tablet     F   \n",
       "3  NotFound  Found     Found  Found     Found  chrome 67.0 for android     F   \n",
       "4  NotFound    New  NotFound    New  NotFound  chrome 67.0 for android     F   \n",
       "\n",
       "  id_36 id_37 id_38  ...  V312  V313   V314   V315 V316 V317 V318   V319  \\\n",
       "0     F     T     F  ...   0.0   NaN    NaN    NaN  0.0  0.0  0.0  0.000   \n",
       "1     F     T     T  ...  90.0  60.0  310.0  130.0  0.0  0.0  0.0  0.000   \n",
       "2     T     T     F  ...   0.0   NaN    NaN    NaN  0.0  0.0  0.0  0.000   \n",
       "3     F     T     F  ...   0.0   NaN    NaN    NaN  0.0  0.0  0.0  6.271   \n",
       "4     F     T     F  ...   0.0   NaN    NaN    NaN  0.0  0.0  0.0  0.000   \n",
       "\n",
       "    V320   V321  \n",
       "0  0.000  0.000  \n",
       "1  0.000  0.000  \n",
       "2  0.000  0.000  \n",
       "3  6.271  6.271  \n",
       "4  0.000  0.000  \n",
       "\n",
       "[5 rows x 358 columns]"
      ]
     },
     "execution_count": 80,
     "metadata": {},
     "output_type": "execute_result"
    }
   ],
   "source": [
    "tst_out.head()"
   ]
  },
  {
   "cell_type": "code",
   "execution_count": 82,
   "id": "individual-draft",
   "metadata": {},
   "outputs": [
    {
     "data": {
      "text/plain": [
       "(506691, 358)"
      ]
     },
     "execution_count": 82,
     "metadata": {},
     "output_type": "execute_result"
    }
   ],
   "source": [
    "tst_out.shape"
   ]
  },
  {
   "cell_type": "code",
   "execution_count": 83,
   "id": "humanitarian-delta",
   "metadata": {},
   "outputs": [],
   "source": [
    "transformer_num = make_pipeline(\n",
    "    SimpleImputer(strategy=\"constant\"), # there are a few missing values\n",
    "    StandardScaler(),\n",
    ")\n",
    "transformer_cat = make_pipeline(\n",
    "    SimpleImputer(strategy=\"constant\", fill_value=\"NA\"),\n",
    "    OneHotEncoder(sparse=False,handle_unknown='ignore'),\n",
    "    #OrdinalEncoder()\n",
    ")\n",
    "\n",
    "preprocessor = make_column_transformer(\n",
    "    (transformer_num, num_col),\n",
    "    (transformer_cat, cat_col),\n",
    ")"
   ]
  },
  {
   "cell_type": "code",
   "execution_count": 84,
   "id": "affiliated-vacation",
   "metadata": {},
   "outputs": [],
   "source": [
    "x_train, x_valid, y_train, y_valid = \\\n",
    "    train_test_split(x, y, stratify=y, train_size=0.75)\n",
    "del x,y\n",
    "\n",
    "x_train = preprocessor.fit_transform(x_train)\n",
    "x_valid = preprocessor.transform(x_valid)\n"
   ]
  },
  {
   "cell_type": "code",
   "execution_count": 85,
   "id": "comparable-hundred",
   "metadata": {},
   "outputs": [],
   "source": [
    "ftst_out=preprocessor.transform(tst_out)"
   ]
  },
  {
   "cell_type": "code",
   "execution_count": 86,
   "id": "regulated-analysis",
   "metadata": {},
   "outputs": [
    {
     "data": {
      "text/plain": [
       "(506691, 2312)"
      ]
     },
     "execution_count": 86,
     "metadata": {},
     "output_type": "execute_result"
    }
   ],
   "source": [
    "ftst_out.shape"
   ]
  },
  {
   "cell_type": "code",
   "execution_count": 87,
   "id": "coral-summary",
   "metadata": {},
   "outputs": [
    {
     "data": {
      "text/plain": [
       "(442905, 2312)"
      ]
     },
     "execution_count": 87,
     "metadata": {},
     "output_type": "execute_result"
    }
   ],
   "source": [
    "x_train.shape"
   ]
  },
  {
   "cell_type": "code",
   "execution_count": 88,
   "id": "built-walker",
   "metadata": {},
   "outputs": [
    {
     "data": {
      "text/plain": [
       "(147635, 2312)"
      ]
     },
     "execution_count": 88,
     "metadata": {},
     "output_type": "execute_result"
    }
   ],
   "source": [
    "x_valid.shape"
   ]
  },
  {
   "cell_type": "code",
   "execution_count": 89,
   "id": "reliable-elizabeth",
   "metadata": {},
   "outputs": [
    {
     "data": {
      "text/plain": [
       "158"
      ]
     },
     "execution_count": 89,
     "metadata": {},
     "output_type": "execute_result"
    }
   ],
   "source": [
    "del tst_out\n",
    "gc.collect()"
   ]
  },
  {
   "cell_type": "code",
   "execution_count": 90,
   "id": "documentary-weather",
   "metadata": {},
   "outputs": [],
   "source": [
    "df=pd.DataFrame(x_train)\n",
    "df.to_csv('x_train.csv',index=False)\n",
    "df=pd.DataFrame(x_valid)\n",
    "df.to_csv('x_valid.csv',index=False)\n",
    "df=pd.DataFrame(y_train)\n",
    "df.to_csv('y_train.csv',index=False)\n",
    "df=pd.DataFrame(y_valid)\n",
    "df.to_csv('y_valid.csv',index=False)\n",
    "df=pd.DataFrame(trans_id)\n",
    "df.to_csv('trans_id.csv',index=False)\n",
    "df=pd.DataFrame(ftst_out)\n",
    "df.to_csv('ftst_out.csv',index=False)"
   ]
  },
  {
   "cell_type": "code",
   "execution_count": 91,
   "id": "artificial-teaching",
   "metadata": {},
   "outputs": [],
   "source": [
    "input_shape = [x_train.shape[1]]"
   ]
  },
  {
   "cell_type": "code",
   "execution_count": 92,
   "id": "martial-subject",
   "metadata": {},
   "outputs": [],
   "source": [
    "from tensorflow import keras\n",
    "from tensorflow.keras import layers\n",
    "\n",
    "# YOUR CODE HERE: define the model given in the diagram\n",
    "model = keras.Sequential([layers.BatchNormalization(input_shape=input_shape),\n",
    "                         layers.Dense(256,activation='relu'),\n",
    "                         layers.BatchNormalization(),\n",
    "                         layers.Dropout(0.3),\n",
    "                         layers.Dense(256,activation='relu'),\n",
    "                         layers.BatchNormalization(),\n",
    "                          layers.Dropout(0.3),\n",
    "                          layers.Dense(128,activation='relu'),\n",
    "                         layers.BatchNormalization(),\n",
    "                          layers.Dropout(0.3),\n",
    "                          layers.Dense(1,activation=\"sigmoid\")\n",
    "                         ])"
   ]
  },
  {
   "cell_type": "code",
   "execution_count": 93,
   "id": "ideal-classic",
   "metadata": {},
   "outputs": [],
   "source": [
    "model.compile(\n",
    "    optimizer='adam',\n",
    "    loss='binary_crossentropy',\n",
    "    metrics=['AUC']\n",
    " )"
   ]
  },
  {
   "cell_type": "code",
   "execution_count": 94,
   "id": "scientific-puzzle",
   "metadata": {},
   "outputs": [],
   "source": [
    "early_stopping = keras.callbacks.EarlyStopping(\n",
    "    patience=5,\n",
    "    min_delta=0.001,\n",
    "    restore_best_weights=True,\n",
    ")\n",
    "lr_schedule = keras.callbacks.ReduceLROnPlateau(\n",
    "    patience=0,\n",
    "    factor=0.2,\n",
    "    min_lr=0.001,\n",
    ")"
   ]
  },
  {
   "cell_type": "code",
   "execution_count": 95,
   "id": "characteristic-liberty",
   "metadata": {},
   "outputs": [
    {
     "name": "stdout",
     "output_type": "stream",
     "text": [
      "Epoch 1/200\n",
      "433/433 [==============================] - 16s 33ms/step - loss: 0.3915 - auc: 0.6598 - val_loss: 0.1118 - val_auc: 0.8487\n",
      "Epoch 2/200\n",
      "433/433 [==============================] - 13s 30ms/step - loss: 0.1110 - auc: 0.8422 - val_loss: 0.1052 - val_auc: 0.8540\n",
      "Epoch 3/200\n",
      "433/433 [==============================] - 13s 29ms/step - loss: 0.1025 - auc: 0.8646 - val_loss: 0.1002 - val_auc: 0.8779\n",
      "Epoch 4/200\n",
      "433/433 [==============================] - 13s 29ms/step - loss: 0.0965 - auc: 0.8767 - val_loss: 0.0959 - val_auc: 0.8838\n",
      "Epoch 5/200\n",
      "433/433 [==============================] - 13s 30ms/step - loss: 0.0930 - auc: 0.8895 - val_loss: 0.0922 - val_auc: 0.8916\n",
      "Epoch 6/200\n",
      "433/433 [==============================] - 13s 30ms/step - loss: 0.0914 - auc: 0.8920 - val_loss: 0.0887 - val_auc: 0.8971\n",
      "Epoch 7/200\n",
      "433/433 [==============================] - 13s 29ms/step - loss: 0.0871 - auc: 0.9009 - val_loss: 0.0881 - val_auc: 0.8996\n",
      "Epoch 8/200\n",
      "433/433 [==============================] - 13s 29ms/step - loss: 0.0852 - auc: 0.9059 - val_loss: 0.0845 - val_auc: 0.9057\n",
      "Epoch 9/200\n",
      "433/433 [==============================] - 13s 30ms/step - loss: 0.0818 - auc: 0.9114 - val_loss: 0.0847 - val_auc: 0.9051\n",
      "Epoch 10/200\n",
      "433/433 [==============================] - 13s 29ms/step - loss: 0.0807 - auc: 0.9133 - val_loss: 0.0823 - val_auc: 0.9100\n",
      "Epoch 11/200\n",
      "433/433 [==============================] - 13s 29ms/step - loss: 0.0769 - auc: 0.9197 - val_loss: 0.0848 - val_auc: 0.9094\n",
      "Epoch 12/200\n",
      "433/433 [==============================] - 13s 30ms/step - loss: 0.0758 - auc: 0.9240 - val_loss: 0.0844 - val_auc: 0.9117\n",
      "Epoch 13/200\n",
      "433/433 [==============================] - 13s 30ms/step - loss: 0.0749 - auc: 0.9236 - val_loss: 0.0835 - val_auc: 0.9104\n",
      "Epoch 14/200\n",
      "433/433 [==============================] - 13s 29ms/step - loss: 0.0732 - auc: 0.9278 - val_loss: 0.0781 - val_auc: 0.9178\n",
      "Epoch 15/200\n",
      "433/433 [==============================] - 13s 29ms/step - loss: 0.0721 - auc: 0.9307 - val_loss: 0.0775 - val_auc: 0.9177\n",
      "Epoch 16/200\n",
      "433/433 [==============================] - 13s 29ms/step - loss: 0.0709 - auc: 0.9347 - val_loss: 0.0792 - val_auc: 0.9171\n",
      "Epoch 17/200\n",
      "433/433 [==============================] - 13s 29ms/step - loss: 0.0694 - auc: 0.9342 - val_loss: 0.0756 - val_auc: 0.9228\n",
      "Epoch 18/200\n",
      "433/433 [==============================] - 13s 29ms/step - loss: 0.0676 - auc: 0.9395 - val_loss: 0.0779 - val_auc: 0.9159\n",
      "Epoch 19/200\n",
      "433/433 [==============================] - 13s 29ms/step - loss: 0.0661 - auc: 0.9400 - val_loss: 0.0752 - val_auc: 0.9238\n",
      "Epoch 20/200\n",
      "433/433 [==============================] - 13s 29ms/step - loss: 0.0651 - auc: 0.9429 - val_loss: 0.0755 - val_auc: 0.9238\n",
      "Epoch 21/200\n",
      "433/433 [==============================] - 13s 29ms/step - loss: 0.0652 - auc: 0.9431 - val_loss: 0.0753 - val_auc: 0.9238\n",
      "Epoch 22/200\n",
      "433/433 [==============================] - 13s 29ms/step - loss: 0.0622 - auc: 0.9468 - val_loss: 0.0732 - val_auc: 0.9248\n",
      "Epoch 23/200\n",
      "433/433 [==============================] - 13s 29ms/step - loss: 0.0617 - auc: 0.9478 - val_loss: 0.0726 - val_auc: 0.9258\n",
      "Epoch 24/200\n",
      "433/433 [==============================] - 13s 29ms/step - loss: 0.0604 - auc: 0.9497 - val_loss: 0.0742 - val_auc: 0.9225\n",
      "Epoch 25/200\n",
      "433/433 [==============================] - 13s 29ms/step - loss: 0.0613 - auc: 0.9504 - val_loss: 0.0741 - val_auc: 0.9216\n",
      "Epoch 26/200\n",
      "433/433 [==============================] - 13s 29ms/step - loss: 0.0597 - auc: 0.9514 - val_loss: 0.0728 - val_auc: 0.9279\n",
      "Epoch 27/200\n",
      "433/433 [==============================] - 14s 32ms/step - loss: 0.0598 - auc: 0.9497 - val_loss: 0.0744 - val_auc: 0.9224\n"
     ]
    }
   ],
   "source": [
    "history = model.fit(\n",
    "    x_train, y_train,\n",
    "    validation_data=(x_valid, y_valid),\n",
    "    batch_size=1024,\n",
    "    epochs=200,\n",
    "    callbacks=[early_stopping],\n",
    ")"
   ]
  },
  {
   "cell_type": "code",
   "execution_count": 96,
   "id": "equivalent-ethics",
   "metadata": {},
   "outputs": [],
   "source": [
    "model_json = model.to_json()\n",
    "with open(\"model.json\", \"w\") as json_file:\n",
    "    json_file.write(model_json)\n",
    "# serialize weights to HDF5\n",
    "model.save_weights(\"model.h5\")"
   ]
  },
  {
   "cell_type": "code",
   "execution_count": 98,
   "id": "written-vietnam",
   "metadata": {},
   "outputs": [
    {
     "data": {
      "image/png": "[encoded data removed]",
      "text/plain": [
       "<Figure size 432x288 with 1 Axes>"
      ]
     },
     "metadata": {
      "needs_background": "light"
     },
     "output_type": "display_data"
    }
   ],
   "source": [
    "import matplotlib.pyplot as plt\n",
    "history_df = pd.DataFrame(history.history)\n",
    "z=history_df.loc[:, ['loss', 'val_loss']].plot(title=\"Cross-entropy\")\n"
   ]
  },
  {
   "cell_type": "code",
   "execution_count": 100,
   "id": "earned-retro",
   "metadata": {},
   "outputs": [
    {
     "data": {
      "text/plain": [
       "5344"
      ]
     },
     "execution_count": 100,
     "metadata": {},
     "output_type": "execute_result"
    }
   ],
   "source": [
    "del x_train,x_valid,y_train,y_valid,history_df\n",
    "gc.collect()"
   ]
  },
  {
   "cell_type": "code",
   "execution_count": 101,
   "id": "marked-douglas",
   "metadata": {},
   "outputs": [
    {
     "name": "stderr",
     "output_type": "stream",
     "text": [
      "/opt/conda/lib/python3.7/site-packages/tensorflow/python/keras/engine/sequential.py:425: UserWarning: `model.predict_proba()` is deprecated and will be removed after 2021-01-01. Please use `model.predict()` instead.\n",
      "  warnings.warn('`model.predict_proba()` is deprecated and '\n"
     ]
    }
   ],
   "source": [
    "tst_pred=model.predict_proba(ftst_out)"
   ]
  },
  {
   "cell_type": "code",
   "execution_count": 102,
   "id": "possible-treaty",
   "metadata": {},
   "outputs": [
    {
     "data": {
      "text/plain": [
       "(506691, 1)"
      ]
     },
     "execution_count": 102,
     "metadata": {},
     "output_type": "execute_result"
    }
   ],
   "source": [
    "tst_pred.shape\n"
   ]
  },
  {
   "cell_type": "code",
   "execution_count": 47,
   "id": "desirable-status",
   "metadata": {},
   "outputs": [
    {
     "ename": "AttributeError",
     "evalue": "'numpy.ndarray' object has no attribute 'head'",
     "output_type": "error",
     "traceback": [
      "\u001b[0;31m---------------------------------------------------------------------------\u001b[0m",
      "\u001b[0;31mAttributeError\u001b[0m                            Traceback (most recent call last)",
      "\u001b[0;32m<ipython-input-47-0a04196dfe36>\u001b[0m in \u001b[0;36m<module>\u001b[0;34m\u001b[0m\n\u001b[0;32m----> 1\u001b[0;31m \u001b[0mtst_pred\u001b[0m\u001b[0;34m.\u001b[0m\u001b[0mhead\u001b[0m\u001b[0;34m(\u001b[0m\u001b[0;34m)\u001b[0m\u001b[0;34m\u001b[0m\u001b[0;34m\u001b[0m\u001b[0m\n\u001b[0m",
      "\u001b[0;31mAttributeError\u001b[0m: 'numpy.ndarray' object has no attribute 'head'"
     ]
    }
   ],
   "source": [
    "tst_pred.head()"
   ]
  },
  {
   "cell_type": "code",
   "execution_count": 103,
   "id": "stone-building",
   "metadata": {},
   "outputs": [
    {
     "data": {
      "text/plain": [
       "array([[8.6894631e-04],\n",
       "       [3.3048391e-03],\n",
       "       [5.7883113e-05],\n",
       "       [2.7492642e-04],\n",
       "       [1.4041904e-01]], dtype=float32)"
      ]
     },
     "execution_count": 103,
     "metadata": {},
     "output_type": "execute_result"
    }
   ],
   "source": [
    "tst_pred[:5]"
   ]
  },
  {
   "cell_type": "code",
   "execution_count": 49,
   "id": "vocational-service",
   "metadata": {},
   "outputs": [
    {
     "data": {
      "text/plain": [
       "(506691,)"
      ]
     },
     "execution_count": 49,
     "metadata": {},
     "output_type": "execute_result"
    }
   ],
   "source": [
    "trans_id.shape"
   ]
  },
  {
   "cell_type": "code",
   "execution_count": 50,
   "id": "domestic-conservation",
   "metadata": {},
   "outputs": [
    {
     "data": {
      "text/plain": [
       "array([4.0445954e-02, 1.5503596e-06, 2.1747380e-02, 3.8120508e-02,\n",
       "       6.7512447e-01, 3.2989562e-02], dtype=float32)"
      ]
     },
     "execution_count": 50,
     "metadata": {},
     "output_type": "execute_result"
    }
   ],
   "source": [
    "tst_pred[:6,0]"
   ]
  },
  {
   "cell_type": "code",
   "execution_count": 104,
   "id": "crucial-marble",
   "metadata": {},
   "outputs": [],
   "source": [
    "submission = pd.DataFrame({\n",
    "    'TransactionID' : trans_id ,\n",
    "    'isFraud' : tst_pred[:,0]\n",
    "})"
   ]
  },
  {
   "cell_type": "code",
   "execution_count": 105,
   "id": "modular-insured",
   "metadata": {},
   "outputs": [],
   "source": [
    "submission.to_csv('submission.csv', index=False)"
   ]
  },
  {
   "cell_type": "code",
   "execution_count": 106,
   "id": "humanitarian-covering",
   "metadata": {},
   "outputs": [
    {
     "data": {
      "text/html": [
       "<div>\n",
       "<style scoped>\n",
       "    .dataframe tbody tr th:only-of-type {\n",
       "        vertical-align: middle;\n",
       "    }\n",
       "\n",
       "    .dataframe tbody tr th {\n",
       "        vertical-align: top;\n",
       "    }\n",
       "\n",
       "    .dataframe thead th {\n",
       "        text-align: right;\n",
       "    }\n",
       "</style>\n",
       "<table border=\"1\" class=\"dataframe\">\n",
       "  <thead>\n",
       "    <tr style=\"text-align: right;\">\n",
       "      <th></th>\n",
       "      <th>TransactionID</th>\n",
       "      <th>isFraud</th>\n",
       "    </tr>\n",
       "  </thead>\n",
       "  <tbody>\n",
       "    <tr>\n",
       "      <th>0</th>\n",
       "      <td>3663586</td>\n",
       "      <td>0.000869</td>\n",
       "    </tr>\n",
       "    <tr>\n",
       "      <th>1</th>\n",
       "      <td>3663588</td>\n",
       "      <td>0.003305</td>\n",
       "    </tr>\n",
       "    <tr>\n",
       "      <th>2</th>\n",
       "      <td>3663597</td>\n",
       "      <td>0.000058</td>\n",
       "    </tr>\n",
       "    <tr>\n",
       "      <th>3</th>\n",
       "      <td>3663601</td>\n",
       "      <td>0.000275</td>\n",
       "    </tr>\n",
       "    <tr>\n",
       "      <th>4</th>\n",
       "      <td>3663602</td>\n",
       "      <td>0.140419</td>\n",
       "    </tr>\n",
       "  </tbody>\n",
       "</table>\n",
       "</div>"
      ],
      "text/plain": [
       "   TransactionID   isFraud\n",
       "0        3663586  0.000869\n",
       "1        3663588  0.003305\n",
       "2        3663597  0.000058\n",
       "3        3663601  0.000275\n",
       "4        3663602  0.140419"
      ]
     },
     "execution_count": 106,
     "metadata": {},
     "output_type": "execute_result"
    }
   ],
   "source": [
    "submission.head()"
   ]
  },
  {
   "cell_type": "code",
   "execution_count": null,
   "id": "available-astrology",
   "metadata": {},
   "outputs": [],
   "source": []
  }
 ],
 "metadata": {
  "kernelspec": {
   "display_name": "Python 3",
   "language": "python",
   "name": "python3"
  },
  "language_info": {
   "codemirror_mode": {
    "name": "ipython",
    "version": 3
   },
   "file_extension": ".py",
   "mimetype": "text/x-python",
   "name": "python",
   "nbconvert_exporter": "python",
   "pygments_lexer": "ipython3",
   "version": "3.7.10"
  }
 },
 "nbformat": 4,
 "nbformat_minor": 5
}
