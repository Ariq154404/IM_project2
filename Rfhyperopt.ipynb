{
 "cells": [
  {
   "cell_type": "code",
   "execution_count": 9,
   "id": "annual-lewis",
   "metadata": {},
   "outputs": [],
   "source": [
    "import pandas as pd\n",
    "import numpy as np\n",
    "from functools import partial\n",
    "from sklearn import ensemble\n",
    "from sklearn import metrics\n",
    "from sklearn import model_selection\n",
    "from skopt import gp_minimize\n",
    "from skopt import space"
   ]
  },
  {
   "cell_type": "code",
   "execution_count": 10,
   "id": "detected-processing",
   "metadata": {},
   "outputs": [],
   "source": [
    "x=pd.read_csv('x_train.csv')\n",
    "y=pd.read_csv('y_train.csv')\n"
   ]
  },
  {
   "cell_type": "code",
   "execution_count": 11,
   "id": "engaging-dakota",
   "metadata": {},
   "outputs": [
    {
     "data": {
      "text/plain": [
       "(590540, 315)"
      ]
     },
     "execution_count": 11,
     "metadata": {},
     "output_type": "execute_result"
    }
   ],
   "source": [
    "x.shape"
   ]
  },
  {
   "cell_type": "code",
   "execution_count": 12,
   "id": "technological-lexington",
   "metadata": {},
   "outputs": [],
   "source": [
    "X=x.values\n",
    "Y=y.values.ravel()"
   ]
  },
  {
   "cell_type": "code",
   "execution_count": 13,
   "id": "placed-canadian",
   "metadata": {},
   "outputs": [],
   "source": [
    "classifier = ensemble.RandomForestClassifier(n_jobs=-1)"
   ]
  },
  {
   "cell_type": "code",
   "execution_count": 14,
   "id": "academic-flush",
   "metadata": {},
   "outputs": [],
   "source": [
    "param_grid = {\n",
    " \"n_estimators\": np.arange(100, 1500, 100),\n",
    " \"max_depth\": np.arange(1, 31),\n",
    " \"criterion\": [\"gini\", \"entropy\"]\n",
    " }"
   ]
  },
  {
   "cell_type": "code",
   "execution_count": 15,
   "id": "structural-triple",
   "metadata": {},
   "outputs": [],
   "source": [
    "model = model_selection.RandomizedSearchCV(\n",
    " estimator=classifier,\n",
    " param_distributions=param_grid,\n",
    " n_iter=5,\n",
    " scoring=\"accuracy\",\n",
    " verbose=10,\n",
    " n_jobs=1,\n",
    " cv=3\n",
    " )"
   ]
  },
  {
   "cell_type": "code",
   "execution_count": 16,
   "id": "raising-threat",
   "metadata": {},
   "outputs": [
    {
     "name": "stdout",
     "output_type": "stream",
     "text": [
      "Fitting 3 folds for each of 5 candidates, totalling 15 fits\n",
      "[CV 1/3; 1/5] START criterion=entropy, max_depth=25, n_estimators=1200..........\n",
      "[CV 1/3; 1/5] END criterion=entropy, max_depth=25, n_estimators=1200; total time= 7.8min\n",
      "[CV 2/3; 1/5] START criterion=entropy, max_depth=25, n_estimators=1200..........\n",
      "[CV 2/3; 1/5] END criterion=entropy, max_depth=25, n_estimators=1200; total time= 5.9min\n",
      "[CV 3/3; 1/5] START criterion=entropy, max_depth=25, n_estimators=1200..........\n",
      "[CV 3/3; 1/5] END criterion=entropy, max_depth=25, n_estimators=1200; total time= 5.0min\n",
      "[CV 1/3; 2/5] START criterion=gini, max_depth=20, n_estimators=200..............\n",
      "[CV 1/3; 2/5] END criterion=gini, max_depth=20, n_estimators=200; total time= 1.3min\n",
      "[CV 2/3; 2/5] START criterion=gini, max_depth=20, n_estimators=200..............\n",
      "[CV 2/3; 2/5] END criterion=gini, max_depth=20, n_estimators=200; total time= 1.1min\n",
      "[CV 3/3; 2/5] START criterion=gini, max_depth=20, n_estimators=200..............\n",
      "[CV 3/3; 2/5] END criterion=gini, max_depth=20, n_estimators=200; total time=  59.2s\n",
      "[CV 1/3; 3/5] START criterion=gini, max_depth=20, n_estimators=1100.............\n",
      "[CV 1/3; 3/5] END criterion=gini, max_depth=20, n_estimators=1100; total time= 7.3min\n",
      "[CV 2/3; 3/5] START criterion=gini, max_depth=20, n_estimators=1100.............\n",
      "[CV 2/3; 3/5] END criterion=gini, max_depth=20, n_estimators=1100; total time= 6.0min\n",
      "[CV 3/3; 3/5] START criterion=gini, max_depth=20, n_estimators=1100.............\n",
      "[CV 3/3; 3/5] END criterion=gini, max_depth=20, n_estimators=1100; total time= 5.2min\n",
      "[CV 1/3; 4/5] START criterion=gini, max_depth=2, n_estimators=200...............\n",
      "[CV 1/3; 4/5] END criterion=gini, max_depth=2, n_estimators=200; total time=  11.6s\n",
      "[CV 2/3; 4/5] START criterion=gini, max_depth=2, n_estimators=200...............\n",
      "[CV 2/3; 4/5] END criterion=gini, max_depth=2, n_estimators=200; total time=  10.8s\n",
      "[CV 3/3; 4/5] START criterion=gini, max_depth=2, n_estimators=200...............\n",
      "[CV 3/3; 4/5] END criterion=gini, max_depth=2, n_estimators=200; total time=  10.8s\n",
      "[CV 1/3; 5/5] START criterion=gini, max_depth=14, n_estimators=1000.............\n",
      "[CV 1/3; 5/5] END criterion=gini, max_depth=14, n_estimators=1000; total time= 5.1min\n",
      "[CV 2/3; 5/5] START criterion=gini, max_depth=14, n_estimators=1000.............\n",
      "[CV 2/3; 5/5] END criterion=gini, max_depth=14, n_estimators=1000; total time= 4.4min\n",
      "[CV 3/3; 5/5] START criterion=gini, max_depth=14, n_estimators=1000.............\n",
      "[CV 3/3; 5/5] END criterion=gini, max_depth=14, n_estimators=1000; total time= 4.0min\n"
     ]
    },
    {
     "data": {
      "text/plain": [
       "RandomizedSearchCV(cv=3, estimator=RandomForestClassifier(n_jobs=-1), n_iter=5,\n",
       "                   n_jobs=1,\n",
       "                   param_distributions={'criterion': ['gini', 'entropy'],\n",
       "                                        'max_depth': array([ 1,  2,  3,  4,  5,  6,  7,  8,  9, 10, 11, 12, 13, 14, 15, 16, 17,\n",
       "       18, 19, 20, 21, 22, 23, 24, 25, 26, 27, 28, 29, 30]),\n",
       "                                        'n_estimators': array([ 100,  200,  300,  400,  500,  600,  700,  800,  900, 1000, 1100,\n",
       "       1200, 1300, 1400])},\n",
       "                   scoring='accuracy', verbose=10)"
      ]
     },
     "execution_count": 16,
     "metadata": {},
     "output_type": "execute_result"
    }
   ],
   "source": [
    "model.fit(X,Y)"
   ]
  },
  {
   "cell_type": "code",
   "execution_count": 22,
   "id": "proud-entry",
   "metadata": {},
   "outputs": [
    {
     "name": "stdout",
     "output_type": "stream",
     "text": [
      "{'bootstrap': True, 'ccp_alpha': 0.0, 'class_weight': None, 'criterion': 'gini', 'max_depth': 2, 'max_features': 'auto', 'max_leaf_nodes': None, 'max_samples': None, 'min_impurity_decrease': 0.0, 'min_impurity_split': None, 'min_samples_leaf': 1, 'min_samples_split': 2, 'min_weight_fraction_leaf': 0.0, 'n_estimators': 200, 'n_jobs': -1, 'oob_score': False, 'random_state': None, 'verbose': 0, 'warm_start': False}\n"
     ]
    }
   ],
   "source": [
    "best_param=model.best_estimator_.get_params()\n",
    "print(best_param)"
   ]
  },
  {
   "cell_type": "code",
   "execution_count": 26,
   "id": "charming-segment",
   "metadata": {},
   "outputs": [
    {
     "data": {
      "text/html": [
       "<div>\n",
       "<style scoped>\n",
       "    .dataframe tbody tr th:only-of-type {\n",
       "        vertical-align: middle;\n",
       "    }\n",
       "\n",
       "    .dataframe tbody tr th {\n",
       "        vertical-align: top;\n",
       "    }\n",
       "\n",
       "    .dataframe thead th {\n",
       "        text-align: right;\n",
       "    }\n",
       "</style>\n",
       "<table border=\"1\" class=\"dataframe\">\n",
       "  <thead>\n",
       "    <tr style=\"text-align: right;\">\n",
       "      <th></th>\n",
       "      <th>bootstrap</th>\n",
       "      <th>ccp_alpha</th>\n",
       "      <th>class_weight</th>\n",
       "      <th>criterion</th>\n",
       "      <th>max_depth</th>\n",
       "      <th>max_features</th>\n",
       "      <th>max_leaf_nodes</th>\n",
       "      <th>max_samples</th>\n",
       "      <th>min_impurity_decrease</th>\n",
       "      <th>min_impurity_split</th>\n",
       "      <th>min_samples_leaf</th>\n",
       "      <th>min_samples_split</th>\n",
       "      <th>min_weight_fraction_leaf</th>\n",
       "      <th>n_estimators</th>\n",
       "      <th>n_jobs</th>\n",
       "      <th>oob_score</th>\n",
       "      <th>random_state</th>\n",
       "      <th>verbose</th>\n",
       "      <th>warm_start</th>\n",
       "    </tr>\n",
       "  </thead>\n",
       "  <tbody>\n",
       "    <tr>\n",
       "      <th>0</th>\n",
       "      <td>True</td>\n",
       "      <td>0.0</td>\n",
       "      <td>None</td>\n",
       "      <td>gini</td>\n",
       "      <td>2</td>\n",
       "      <td>auto</td>\n",
       "      <td>None</td>\n",
       "      <td>None</td>\n",
       "      <td>0.0</td>\n",
       "      <td>None</td>\n",
       "      <td>1</td>\n",
       "      <td>2</td>\n",
       "      <td>0.0</td>\n",
       "      <td>200</td>\n",
       "      <td>-1</td>\n",
       "      <td>False</td>\n",
       "      <td>None</td>\n",
       "      <td>0</td>\n",
       "      <td>False</td>\n",
       "    </tr>\n",
       "  </tbody>\n",
       "</table>\n",
       "</div>"
      ],
      "text/plain": [
       "   bootstrap  ccp_alpha class_weight criterion  max_depth max_features  \\\n",
       "0       True        0.0         None      gini          2         auto   \n",
       "\n",
       "  max_leaf_nodes max_samples  min_impurity_decrease min_impurity_split  \\\n",
       "0           None        None                    0.0               None   \n",
       "\n",
       "   min_samples_leaf  min_samples_split  min_weight_fraction_leaf  \\\n",
       "0                 1                  2                       0.0   \n",
       "\n",
       "   n_estimators  n_jobs  oob_score random_state  verbose  warm_start  \n",
       "0           200      -1      False         None        0       False  "
      ]
     },
     "execution_count": 26,
     "metadata": {},
     "output_type": "execute_result"
    }
   ],
   "source": [
    "df=pd.DataFrame.from_records([best_param])\n",
    "df.head()\n",
    "#new.to_csv('best_param.csv')"
   ]
  },
  {
   "cell_type": "code",
   "execution_count": 27,
   "id": "simplified-liver",
   "metadata": {},
   "outputs": [],
   "source": [
    "df.to_csv('best_param.csv')"
   ]
  },
  {
   "cell_type": "code",
   "execution_count": 28,
   "id": "connected-webmaster",
   "metadata": {},
   "outputs": [],
   "source": [
    "model2=ensemble.RandomForestClassifier(**best_param)"
   ]
  },
  {
   "cell_type": "code",
   "execution_count": 29,
   "id": "hearing-mason",
   "metadata": {},
   "outputs": [
    {
     "data": {
      "text/plain": [
       "RandomForestClassifier(max_depth=2, n_estimators=200, n_jobs=-1)"
      ]
     },
     "execution_count": 29,
     "metadata": {},
     "output_type": "execute_result"
    }
   ],
   "source": [
    "model2.fit(X,Y)"
   ]
  },
  {
   "cell_type": "code",
   "execution_count": 30,
   "id": "behavioral-sherman",
   "metadata": {},
   "outputs": [],
   "source": [
    "tst_out=pd.read_csv('ftst.csv')\n",
    "tran_id=pd.read_csv('trans_id.csv')"
   ]
  },
  {
   "cell_type": "code",
   "execution_count": 31,
   "id": "heavy-queen",
   "metadata": {},
   "outputs": [],
   "source": [
    "to=tst_out.values"
   ]
  },
  {
   "cell_type": "code",
   "execution_count": 32,
   "id": "alone-advertising",
   "metadata": {},
   "outputs": [
    {
     "data": {
      "text/plain": [
       "array([[ 2.2367987 ,  2.38925204, -0.53836314, ...,  0.        ,\n",
       "         1.        ,  0.        ],\n",
       "       [ 2.23681043,  2.38926114, -0.35552079, ...,  0.        ,\n",
       "         1.        ,  0.        ],\n",
       "       [ 2.23686322,  2.38930012, -0.40854754, ...,  0.        ,\n",
       "         1.        ,  0.        ],\n",
       "       [ 2.23688669,  2.38931745, -0.53836314, ...,  0.        ,\n",
       "         1.        ,  0.        ],\n",
       "       [ 2.23689255,  2.38932698, -0.3460795 , ...,  0.        ,\n",
       "         1.        ,  0.        ]])"
      ]
     },
     "execution_count": 32,
     "metadata": {},
     "output_type": "execute_result"
    }
   ],
   "source": [
    "to[:5]"
   ]
  },
  {
   "cell_type": "code",
   "execution_count": 33,
   "id": "suffering-slope",
   "metadata": {},
   "outputs": [],
   "source": [
    "ti=tran_id.values\n"
   ]
  },
  {
   "cell_type": "code",
   "execution_count": 35,
   "id": "scientific-thought",
   "metadata": {},
   "outputs": [
    {
     "data": {
      "text/plain": [
       "array([[3663586],\n",
       "       [3663588],\n",
       "       [3663597],\n",
       "       [3663601],\n",
       "       [3663602]])"
      ]
     },
     "execution_count": 35,
     "metadata": {},
     "output_type": "execute_result"
    }
   ],
   "source": [
    "ti[:5]"
   ]
  },
  {
   "cell_type": "code",
   "execution_count": 36,
   "id": "early-concern",
   "metadata": {},
   "outputs": [],
   "source": [
    "tp=model2.predict_proba(to)"
   ]
  },
  {
   "cell_type": "code",
   "execution_count": 37,
   "id": "introductory-literacy",
   "metadata": {},
   "outputs": [
    {
     "data": {
      "text/plain": [
       "array([[0.92299909, 0.07700091],\n",
       "       [0.9246643 , 0.0753357 ],\n",
       "       [0.93201475, 0.06798525],\n",
       "       [0.89974692, 0.10025308],\n",
       "       [0.66002855, 0.33997145]])"
      ]
     },
     "execution_count": 37,
     "metadata": {},
     "output_type": "execute_result"
    }
   ],
   "source": [
    "tp[:5]"
   ]
  },
  {
   "cell_type": "code",
   "execution_count": 39,
   "id": "affiliated-appliance",
   "metadata": {},
   "outputs": [
    {
     "data": {
      "text/plain": [
       "(506691, 2)"
      ]
     },
     "execution_count": 39,
     "metadata": {},
     "output_type": "execute_result"
    }
   ],
   "source": [
    "tp.shape"
   ]
  },
  {
   "cell_type": "code",
   "execution_count": 40,
   "id": "metropolitan-shopping",
   "metadata": {},
   "outputs": [
    {
     "data": {
      "text/plain": [
       "(506691, 315)"
      ]
     },
     "execution_count": 40,
     "metadata": {},
     "output_type": "execute_result"
    }
   ],
   "source": [
    "to.shape"
   ]
  },
  {
   "cell_type": "code",
   "execution_count": 41,
   "id": "solved-kingdom",
   "metadata": {},
   "outputs": [
    {
     "data": {
      "text/plain": [
       "(590540,)"
      ]
     },
     "execution_count": 41,
     "metadata": {},
     "output_type": "execute_result"
    }
   ],
   "source": [
    "Y.shape"
   ]
  },
  {
   "cell_type": "code",
   "execution_count": 42,
   "id": "congressional-prospect",
   "metadata": {},
   "outputs": [
    {
     "data": {
      "text/plain": [
       "(590540, 315)"
      ]
     },
     "execution_count": 42,
     "metadata": {},
     "output_type": "execute_result"
    }
   ],
   "source": [
    "X.shape"
   ]
  },
  {
   "cell_type": "code",
   "execution_count": 43,
   "id": "ignored-trinity",
   "metadata": {},
   "outputs": [
    {
     "data": {
      "text/plain": [
       "RandomForestClassifier()"
      ]
     },
     "execution_count": 43,
     "metadata": {},
     "output_type": "execute_result"
    }
   ],
   "source": [
    "model3=ensemble.RandomForestClassifier()\n",
    "model3.fit(X,Y)"
   ]
  },
  {
   "cell_type": "code",
   "execution_count": 46,
   "id": "duplicate-franklin",
   "metadata": {},
   "outputs": [],
   "source": [
    "res=model3.predict_proba(to)\n"
   ]
  },
  {
   "cell_type": "code",
   "execution_count": 48,
   "id": "pointed-memphis",
   "metadata": {},
   "outputs": [
    {
     "data": {
      "text/plain": [
       "(506691, 2)"
      ]
     },
     "execution_count": 48,
     "metadata": {},
     "output_type": "execute_result"
    }
   ],
   "source": [
    "res.shape"
   ]
  },
  {
   "cell_type": "code",
   "execution_count": 49,
   "id": "boxed-converter",
   "metadata": {},
   "outputs": [
    {
     "data": {
      "text/plain": [
       "array([0.07700091, 0.0753357 , 0.06798525, 0.10025308, 0.33997145])"
      ]
     },
     "execution_count": 49,
     "metadata": {},
     "output_type": "execute_result"
    }
   ],
   "source": [
    "tp[:5,1]"
   ]
  },
  {
   "cell_type": "code",
   "execution_count": 50,
   "id": "loose-therapy",
   "metadata": {},
   "outputs": [
    {
     "data": {
      "text/plain": [
       "array([0.92299909, 0.9246643 , 0.93201475, 0.89974692, 0.66002855])"
      ]
     },
     "execution_count": 50,
     "metadata": {},
     "output_type": "execute_result"
    }
   ],
   "source": [
    "tp[:5,0]"
   ]
  },
  {
   "cell_type": "code",
   "execution_count": 52,
   "id": "white-registrar",
   "metadata": {},
   "outputs": [
    {
     "data": {
      "text/plain": [
       "(506691, 1)"
      ]
     },
     "execution_count": 52,
     "metadata": {},
     "output_type": "execute_result"
    }
   ],
   "source": [
    "ti.shape"
   ]
  },
  {
   "cell_type": "code",
   "execution_count": 53,
   "id": "immune-techno",
   "metadata": {},
   "outputs": [
    {
     "data": {
      "text/plain": [
       "array([[3663586],\n",
       "       [3663588],\n",
       "       [3663597],\n",
       "       [3663601],\n",
       "       [3663602]])"
      ]
     },
     "execution_count": 53,
     "metadata": {},
     "output_type": "execute_result"
    }
   ],
   "source": [
    "ti[:5]"
   ]
  },
  {
   "cell_type": "code",
   "execution_count": 54,
   "id": "patent-messaging",
   "metadata": {},
   "outputs": [],
   "source": [
    "submission3 = pd.DataFrame({\n",
    "    'TransactionID' : ti.ravel() ,\n",
    "    'isFraud' : tp[:,1]\n",
    "})"
   ]
  },
  {
   "cell_type": "code",
   "execution_count": 56,
   "id": "wound-contents",
   "metadata": {},
   "outputs": [],
   "source": [
    "submission3.to_csv('subRFhpt.csv', index=False)"
   ]
  },
  {
   "cell_type": "code",
   "execution_count": 57,
   "id": "interior-yugoslavia",
   "metadata": {},
   "outputs": [
    {
     "data": {
      "text/html": [
       "<div>\n",
       "<style scoped>\n",
       "    .dataframe tbody tr th:only-of-type {\n",
       "        vertical-align: middle;\n",
       "    }\n",
       "\n",
       "    .dataframe tbody tr th {\n",
       "        vertical-align: top;\n",
       "    }\n",
       "\n",
       "    .dataframe thead th {\n",
       "        text-align: right;\n",
       "    }\n",
       "</style>\n",
       "<table border=\"1\" class=\"dataframe\">\n",
       "  <thead>\n",
       "    <tr style=\"text-align: right;\">\n",
       "      <th></th>\n",
       "      <th>TransactionID</th>\n",
       "      <th>isFraud</th>\n",
       "    </tr>\n",
       "  </thead>\n",
       "  <tbody>\n",
       "    <tr>\n",
       "      <th>0</th>\n",
       "      <td>3663586</td>\n",
       "      <td>0.077001</td>\n",
       "    </tr>\n",
       "    <tr>\n",
       "      <th>1</th>\n",
       "      <td>3663588</td>\n",
       "      <td>0.075336</td>\n",
       "    </tr>\n",
       "    <tr>\n",
       "      <th>2</th>\n",
       "      <td>3663597</td>\n",
       "      <td>0.067985</td>\n",
       "    </tr>\n",
       "    <tr>\n",
       "      <th>3</th>\n",
       "      <td>3663601</td>\n",
       "      <td>0.100253</td>\n",
       "    </tr>\n",
       "    <tr>\n",
       "      <th>4</th>\n",
       "      <td>3663602</td>\n",
       "      <td>0.339971</td>\n",
       "    </tr>\n",
       "  </tbody>\n",
       "</table>\n",
       "</div>"
      ],
      "text/plain": [
       "   TransactionID   isFraud\n",
       "0        3663586  0.077001\n",
       "1        3663588  0.075336\n",
       "2        3663597  0.067985\n",
       "3        3663601  0.100253\n",
       "4        3663602  0.339971"
      ]
     },
     "execution_count": 57,
     "metadata": {},
     "output_type": "execute_result"
    }
   ],
   "source": [
    "submission3.head()"
   ]
  },
  {
   "cell_type": "code",
   "execution_count": null,
   "id": "rural-animal",
   "metadata": {},
   "outputs": [],
   "source": []
  }
 ],
 "metadata": {
  "kernelspec": {
   "display_name": "Python 3",
   "language": "python",
   "name": "python3"
  },
  "language_info": {
   "codemirror_mode": {
    "name": "ipython",
    "version": 3
   },
   "file_extension": ".py",
   "mimetype": "text/x-python",
   "name": "python",
   "nbconvert_exporter": "python",
   "pygments_lexer": "ipython3",
   "version": "3.7.10"
  }
 },
 "nbformat": 4,
 "nbformat_minor": 5
}
