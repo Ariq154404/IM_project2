{
 "cells": [
  {
   "cell_type": "code",
   "execution_count": 21,
   "id": "photographic-terror",
   "metadata": {},
   "outputs": [],
   "source": [
    "import pandas as pd\n",
    "import numpy as np\n",
    "from sklearn.model_selection import train_test_split\n",
    "from sklearn.preprocessing import StandardScaler, OneHotEncoder,LabelEncoder,OrdinalEncoder\n",
    "from sklearn.impute import SimpleImputer\n",
    "from sklearn.pipeline import make_pipeline\n",
    "from sklearn.compose import make_column_transformer"
   ]
  },
  {
   "cell_type": "code",
   "execution_count": 22,
   "id": "hollow-impression",
   "metadata": {},
   "outputs": [],
   "source": [
    "trn_id=pd.read_csv('train_identity.csv') \n",
    "trn_trans=pd.read_csv('train_transaction.csv')\n",
    "trn_data=pd.merge(trn_id, trn_trans, on='TransactionID', how='outer')"
   ]
  },
  {
   "cell_type": "code",
   "execution_count": 23,
   "id": "hungarian-weapon",
   "metadata": {},
   "outputs": [
    {
     "data": {
      "text/plain": [
       "46"
      ]
     },
     "execution_count": 23,
     "metadata": {},
     "output_type": "execute_result"
    }
   ],
   "source": [
    "import gc\n",
    "del trn_id,trn_trans\n",
    "gc.collect()"
   ]
  },
  {
   "cell_type": "code",
   "execution_count": 24,
   "id": "wireless-kuwait",
   "metadata": {},
   "outputs": [],
   "source": [
    "x=trn_data[trn_data[\"isFraud\"].notna()]"
   ]
  },
  {
   "cell_type": "code",
   "execution_count": 25,
   "id": "quantitative-saturday",
   "metadata": {},
   "outputs": [],
   "source": [
    " x= x.loc[:, x.isnull().sum() < 0.75*x.shape[0]]"
   ]
  },
  {
   "cell_type": "code",
   "execution_count": 26,
   "id": "enhanced-corruption",
   "metadata": {},
   "outputs": [
    {
     "data": {
      "text/plain": [
       "22"
      ]
     },
     "execution_count": 26,
     "metadata": {},
     "output_type": "execute_result"
    }
   ],
   "source": [
    "del trn_data\n",
    "gc.collect()"
   ]
  },
  {
   "cell_type": "code",
   "execution_count": 27,
   "id": "modified-object",
   "metadata": {},
   "outputs": [],
   "source": [
    "y=x.pop(\"isFraud\")"
   ]
  },
  {
   "cell_type": "code",
   "execution_count": 28,
   "id": "simple-philosophy",
   "metadata": {},
   "outputs": [],
   "source": [
    "ff=[c for c in x.columns if  x[c].isnull().sum() < 0.80 * x.shape[0]]"
   ]
  },
  {
   "cell_type": "code",
   "execution_count": 29,
   "id": "functional-belarus",
   "metadata": {},
   "outputs": [],
   "source": [
    "cat_col= [c for c in ff if\n",
    "                   x[c].dtype == \"object\"]\n",
    "\n",
    "\n",
    "num_col = [c for c in ff if \n",
    "                  c not in cat_col]"
   ]
  },
  {
   "cell_type": "code",
   "execution_count": 30,
   "id": "enormous-wednesday",
   "metadata": {},
   "outputs": [
    {
     "data": {
      "text/plain": [
       "0"
      ]
     },
     "execution_count": 30,
     "metadata": {},
     "output_type": "execute_result"
    }
   ],
   "source": [
    "tst_id=pd.read_csv('test_identity.csv') \n",
    "tst_trans=pd.read_csv('test_transaction.csv')\n",
    "tst_data=pd.merge(tst_id, tst_trans, on='TransactionID', how='outer')\n",
    "del tst_id,tst_trans\n",
    "gc.collect()"
   ]
  },
  {
   "cell_type": "code",
   "execution_count": 31,
   "id": "pointed-program",
   "metadata": {},
   "outputs": [],
   "source": [
    "tst_data.rename({'id-01':'id_01','id-02':'id_02','id-03':'id_03','id-04':'id_04','id-05':'id_05','id-06':'id_06','id-07':'id_07','id-08':'id_08','id-09':'id_09','id-10':'id_10','id-11':'id_11','id-12':'id_12','id-13':'id_13','id-14':'id_14','id-15':'id_15','id-16':'id_16','id-17':'id_17','id-18':'id_18','id-19':'id_19','id-20':'id_20','id-21':'id_21','id-22':'id_22','id-23':'id_23','id-24':'id_24','id-25':'id_25','id-26':'id_26','id-27':'id_27','id-28':'id_28','id-29':'id_29','id-30':'id_30','id-31':'id_31', 'id-32':'id_32', 'id-33':'id_33', 'id-34':'id_34', 'id-35':'id_35', 'id-36':'id_36', 'id-37':'id_37', 'id-38':'id_38'}, axis=1, inplace=True)"
   ]
  },
  {
   "cell_type": "code",
   "execution_count": 32,
   "id": "dimensional-prayer",
   "metadata": {},
   "outputs": [],
   "source": [
    "x=pd.concat((x[cat_col],x[num_col]),axis=1)"
   ]
  },
  {
   "cell_type": "code",
   "execution_count": 33,
   "id": "overall-church",
   "metadata": {},
   "outputs": [],
   "source": [
    "tst_out=pd.concat((tst_data[cat_col],tst_data[num_col]),axis=1)"
   ]
  },
  {
   "cell_type": "code",
   "execution_count": 34,
   "id": "appreciated-agency",
   "metadata": {},
   "outputs": [],
   "source": [
    "transformer_num = make_pipeline(\n",
    "    SimpleImputer(strategy=\"constant\"), # there are a few missing values\n",
    "    StandardScaler(),\n",
    ")\n",
    "transformer_cat = make_pipeline(\n",
    "    SimpleImputer(strategy=\"constant\", fill_value=\"NA\"),\n",
    "    OneHotEncoder(sparse=False,handle_unknown='ignore'),\n",
    "    #OrdinalEncoder()\n",
    ")\n",
    "\n",
    "preprocessor = make_column_transformer(\n",
    "    (transformer_num, num_col),\n",
    "    (transformer_cat, cat_col),\n",
    ")"
   ]
  },
  {
   "cell_type": "code",
   "execution_count": 35,
   "id": "angry-participation",
   "metadata": {},
   "outputs": [],
   "source": [
    "x = preprocessor.fit_transform(x)\n",
    "tst_out = preprocessor.transform(tst_out)"
   ]
  },
  {
   "cell_type": "code",
   "execution_count": 36,
   "id": "institutional-technique",
   "metadata": {},
   "outputs": [
    {
     "data": {
      "text/plain": [
       "(590540, 315)"
      ]
     },
     "execution_count": 36,
     "metadata": {},
     "output_type": "execute_result"
    }
   ],
   "source": [
    "x.shape"
   ]
  },
  {
   "cell_type": "code",
   "execution_count": 37,
   "id": "italic-consequence",
   "metadata": {},
   "outputs": [
    {
     "data": {
      "text/plain": [
       "(506691, 315)"
      ]
     },
     "execution_count": 37,
     "metadata": {},
     "output_type": "execute_result"
    }
   ],
   "source": [
    "tst_out.shape"
   ]
  },
  {
   "cell_type": "code",
   "execution_count": 38,
   "id": "divine-homework",
   "metadata": {},
   "outputs": [],
   "source": [
    "df=pd.DataFrame(x)\n",
    "df.to_csv('x_train.csv',index=False)\n",
    "df=pd.DataFrame(y)\n",
    "df.to_csv('y_train.csv',index=False)\n",
    "df=pd.DataFrame(tst_out)\n",
    "df.to_csv('ftst.csv',index=False)"
   ]
  },
  {
   "cell_type": "code",
   "execution_count": null,
   "id": "imported-elder",
   "metadata": {},
   "outputs": [],
   "source": []
  }
 ],
 "metadata": {
  "kernelspec": {
   "display_name": "Python 3",
   "language": "python",
   "name": "python3"
  },
  "language_info": {
   "codemirror_mode": {
    "name": "ipython",
    "version": 3
   },
   "file_extension": ".py",
   "mimetype": "text/x-python",
   "name": "python",
   "nbconvert_exporter": "python",
   "pygments_lexer": "ipython3",
   "version": "3.7.10"
  }
 },
 "nbformat": 4,
 "nbformat_minor": 5
}
